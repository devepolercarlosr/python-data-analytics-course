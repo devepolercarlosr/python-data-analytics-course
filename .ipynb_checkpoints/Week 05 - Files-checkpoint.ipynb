{
 "cells": [
  {
   "cell_type": "markdown",
   "metadata": {},
   "source": [
    "# Week 5: Files"
   ]
  },
  {
   "cell_type": "markdown",
   "metadata": {},
   "source": [
    "## Drill"
   ]
  },
  {
   "cell_type": "markdown",
   "metadata": {
    "solution": "hidden",
    "solution2": "hidden",
    "solution2_first": true,
    "solution_first": true
   },
   "source": [
    "Write a function `isodd()` that will return `-1` if the number is an even number, or `1` if the number is an odd number. "
   ]
  },
  {
   "cell_type": "code",
   "execution_count": null,
   "metadata": {
    "tags": []
   },
   "outputs": [],
   "source": [
    "# Your code below\n"
   ]
  },
  {
   "cell_type": "code",
   "execution_count": null,
   "metadata": {
    "solution": "hidden",
    "solution2": "hidden",
    "tags": []
   },
   "outputs": [],
   "source": [
    "# Solution\n",
    "def isodd(num): \n",
    "    if num % 2 == 0: \n",
    "        return 1\n",
    "    else: \n",
    "        return -1"
   ]
  },
  {
   "cell_type": "markdown",
   "metadata": {
    "solution": "hidden",
    "solution2": "hidden",
    "solution2_first": true,
    "solution_first": true
   },
   "source": [
    "Write a code that will do the following: \n",
    "* If the number can be divided by $2$, plus $1$ to the number and run the next rule. \n",
    "* If the number can be divided by $3$, print $-1$ and exit the code. \n",
    "* If the number can be divided by $5$, print $-1$ and exit the code. \n",
    "* If none of the rules apply, then print `'Congrats! You have found the number!'`. "
   ]
  },
  {
   "cell_type": "code",
   "execution_count": null,
   "metadata": {
    "tags": []
   },
   "outputs": [],
   "source": [
    "# Your code below\n"
   ]
  },
  {
   "cell_type": "code",
   "execution_count": null,
   "metadata": {
    "solution": "hidden",
    "solution2": "hidden"
   },
   "outputs": [],
   "source": [
    "# Solution\n",
    "number = int(input())   # You can predefine the number instead of using input()\n",
    "while True: \n",
    "    if number % 2 == 0: \n",
    "        number += 1\n",
    "    elif number % 3 == 0: \n",
    "        print('-1')\n",
    "        break\n",
    "    elif number % 5 == 0: \n",
    "        print('-1')\n",
    "        break\n",
    "    else: \n",
    "        print('Congrats! You have found the number!')\n",
    "        break"
   ]
  },
  {
   "cell_type": "markdown",
   "metadata": {
    "solution": "hidden",
    "solution2": "hidden",
    "solution2_first": true,
    "solution_first": true
   },
   "source": [
    "Write a function `positive_match()` that will return the words (of a string) that matches with the given list `positive_words`. Print the words line by line. The `split()` method and the `in` keyword may help you. "
   ]
  },
  {
   "cell_type": "code",
   "execution_count": null,
   "metadata": {
    "collapsed": true,
    "jupyter": {
     "outputs_hidden": true
    }
   },
   "outputs": [],
   "source": [
    "essay = 'In its darkest time let truth and friendliness show. Aggie sniffed Mattias, as if it is like the first day they have been met. The rain poured heavily, but now, it washed all the embarrassments and hard times on their face. Mattias wanted to move his face muscle. His speaking was weak, but his tips tried, harder and harder. Aggie gazed at Mattias. It seems a dog would even be enthusiastic on what Mattias wants to say. Mattias smiled. It is the first time since he had a joyful face. That had never been shown before. Aggie healed Mattias, but so as himself.'\n",
    "positive_words = ['accepted', 'attractive', 'enthusiastic', 'friendliness', 'happy', 'joyful', 'right', 'robust']\n",
    "\n",
    "def positive_match(): \n",
    "    pass"
   ]
  },
  {
   "cell_type": "code",
   "execution_count": 7,
   "metadata": {
    "solution": "hidden",
    "solution2": "hidden"
   },
   "outputs": [
    {
     "data": {
      "text/plain": [
       "['friendliness', 'enthusiastic', 'joyful']"
      ]
     },
     "execution_count": 7,
     "metadata": {},
     "output_type": "execute_result"
    }
   ],
   "source": [
    "# Solution\n",
    "essay = 'In its darkest time let truth and friendliness show. Aggie sniffed Mattias, as if it is like the first day they have been met. The rain poured heavily, but now, it washed all the embarrassments and hard times on their face. Mattias wanted to move his face muscle. His speaking was weak, but his tips tried, harder and harder. Aggie gazed at Mattias. It seems a dog would even be enthusiastic on what Mattias wants to say. Mattias smiled. It is the first time since he had a joyful face. That had never been shown before. Aggie healed Mattias, but so as himself.'\n",
    "positive_words = ['accepted', 'attractive', 'enthusiastic', 'friendliness', 'happy', 'joyful', 'right', 'robust']\n",
    "\n",
    "def positive_match(words, positive_words):\n",
    "    words = words.split()\n",
    "    words = [word.strip(',') for word in words]\n",
    "    words = [word.strip('.') for word in words]\n",
    "    target_match = []\n",
    "    for word in words: \n",
    "        if word in positive_words: \n",
    "            target_match.append(word)\n",
    "    return target_match\n",
    "\n",
    "positive_match(essay, positive_words)"
   ]
  },
  {
   "cell_type": "markdown",
   "metadata": {},
   "source": [
    "## Files"
   ]
  },
  {
   "cell_type": "markdown",
   "metadata": {},
   "source": [
    "Python is very useful in writing automation and data analysis. They are the pivot point of other computer files. So that either the data stored in the files are leveraged, or the computer controlled applicances are activated. So for Python, there is an interface to use files. In this week, we will be look at \n",
    "* how to read files, and \n",
    "* how to write files"
   ]
  },
  {
   "cell_type": "markdown",
   "metadata": {},
   "source": [
    "### File Formats\n",
    "\n",
    "For the purpose of this course, we differentiate between files as __containing data__ while our Python script contains instructions to read and/ or manipulate them. Here are the common file formats: \n",
    "* Text files (e.g. `.txt`, `.csv`)\n",
    "* Image (e.g. `.png`, `.jpg`)\n",
    "* Spatial data (e.g. `.kml`)\n",
    "\n",
    "File formats represent what type of data they are. It is separated with the file name by the dot. The common feature of files are the fact they are represented by 1's and 0's. With different arrangemens of these 1's and 0's, it made the computer able to interpret whether it is a text file, or an image. "
   ]
  },
  {
   "cell_type": "markdown",
   "metadata": {},
   "source": [
    "The difference between file formats and formats, are the standard they follow. For example, a text follows ASCII or Unicode standard. Each characters are represented by a character code. `'a'` is represented by 97. To represent 97 in 1's and 0's, we must understand how to convert binary numbers to decimals. Taking 97 itself, it can be decomposed by $97\\;=\\;9\\;\\times\\;10\\;+\\;7\\;\\times\\;1$. $1$ and $10$ represents the order of decimal digits. So $1$, $2$, $4$ represents the binary digits. So 97 is represented as 1100001 in binary digits. \n",
    "\n",
    "You can try this below"
   ]
  },
  {
   "cell_type": "code",
   "execution_count": 2,
   "metadata": {},
   "outputs": [
    {
     "data": {
      "text/plain": [
       "97"
      ]
     },
     "execution_count": 2,
     "metadata": {},
     "output_type": "execute_result"
    }
   ],
   "source": [
    "1*64+1*32+0*16+0*8+0*4+0*2+1*1"
   ]
  },
  {
   "cell_type": "markdown",
   "metadata": {},
   "source": [
    "So as a computer, it would send a series of pulse-pulse-silence-silence-silence-silence-pulse to represent the letter `'a'`. For images, an electron pulse would represent the point in the image (i.e. pixel). Different file formats have a different standard, and this is the key when analysing the data from files. "
   ]
  },
  {
   "cell_type": "markdown",
   "metadata": {},
   "source": [
    "### Delimeter"
   ]
  },
  {
   "cell_type": "markdown",
   "metadata": {},
   "source": [
    "Data points are separated by something to distinguish themselves. This is called a delimeter, and it can be any characters. Often the delimeters would be: \n",
    "* tab\n",
    "* space\n",
    "* new line\n",
    "* comma"
   ]
  },
  {
   "cell_type": "markdown",
   "metadata": {},
   "source": [
    "In Python, we could write these characters inside strings. For example, \n",
    "* `'\\t'` represents tab characters.\n",
    "* `'\\n'` represents a new line character. \n",
    "\n",
    "Often we do not like new lines, and this is always read from files. It means for a file we read we will see \n",
    "```\n",
    "Baby baby, who's on board. \n",
    "\n",
    "Now how her Edward engage not horses. \n",
    "\n",
    "Oh! Resolution he dissimilar precaution to comparison an.\n",
    "\n",
    "```\n",
    "There is an extra new line character instead of this \n",
    "```\n",
    "Baby baby, who's on board. \n",
    "Now how her edward engage not horses. \n",
    "Oh! Resolution he dissimilar precaution to comparison an.\n",
    "\n",
    "```\n",
    "To clear these new line characters, we use the `strip()` method. This is an example: \n",
    "```python\n",
    "some_strings.strip()\n",
    "```"
   ]
  },
  {
   "cell_type": "markdown",
   "metadata": {
    "solution": "hidden",
    "solution2": "hidden",
    "solution2_first": true,
    "solution_first": true
   },
   "source": [
    "__Exercise:__ Write a program that will clear the new line character in the following provided string. "
   ]
  },
  {
   "cell_type": "code",
   "execution_count": null,
   "metadata": {
    "collapsed": true,
    "jupyter": {
     "outputs_hidden": true
    }
   },
   "outputs": [],
   "source": [
    "string = 'Writing is painful but it is part of process.\\n'\n",
    "print(string)\n",
    "\n",
    "# Your code below\n"
   ]
  },
  {
   "cell_type": "code",
   "execution_count": 12,
   "metadata": {
    "solution": "hidden",
    "solution2": "hidden"
   },
   "outputs": [
    {
     "name": "stdout",
     "output_type": "stream",
     "text": [
      "Writing is painful but it is part of process.\n"
     ]
    }
   ],
   "source": [
    "# Solution\n",
    "string = 'Writing is painful but it is part of process.\\n'\n",
    "print(string.strip())"
   ]
  },
  {
   "cell_type": "markdown",
   "metadata": {
    "solution": "hidden",
    "solution2": "hidden",
    "solution2_first": true,
    "solution_first": true
   },
   "source": [
    "__Exercise:__ Write a program that will clear the new line characters in the following provided paragraphs. "
   ]
  },
  {
   "cell_type": "code",
   "execution_count": 8,
   "metadata": {},
   "outputs": [
    {
     "name": "stdout",
     "output_type": "stream",
     "text": [
      "Writting is painful but it is part of process.\n",
      "\n",
      "Then so as sunset over went dull on.\n",
      "\n",
      "Likewise offended humoured mrs fat trifling answered.\n",
      "\n",
      "On ye position greatest so desirous.\n",
      "\n",
      "So wound stood guest weeks no terms up sought.By so these am so rapid blush songs begin.\n",
      "\n",
      "Nor but mean time one over.\n",
      "\n"
     ]
    }
   ],
   "source": [
    "strings = ['Writing is painful but it is part of process.\\n', 'Then so as sunset over went dull on.\\n', 'Likewise offended humoured mrs fat trifling answered.\\n', 'On ye position greatest so desirous.\\n', 'So wound stood guest weeks no terms up sought.' 'By so these am so rapid blush songs begin.\\n', 'Nor but mean time one over.\\n']\n",
    "for i in strings: \n",
    "    print(i)\n",
    "# Change above code "
   ]
  },
  {
   "cell_type": "code",
   "execution_count": 11,
   "metadata": {
    "solution": "hidden",
    "solution2": "hidden"
   },
   "outputs": [
    {
     "name": "stdout",
     "output_type": "stream",
     "text": [
      "Writting is painful but it is part of process.\n",
      "Then so as sunset over went dull on.\n",
      "Likewise offended humoured mrs fat trifling answered.\n",
      "On ye position greatest so desirous.\n",
      "So wound stood guest weeks no terms up sought.By so these am so rapid blush songs begin.\n",
      "Nor but mean time one over.\n"
     ]
    }
   ],
   "source": [
    "# Solution\n",
    "strings = ['Writing is painful but it is part of process.\\n', 'Then so as sunset over went dull on.\\n', 'Likewise offended humoured mrs fat trifling answered.\\n', 'On ye position greatest so desirous.\\n', 'So wound stood guest weeks no terms up sought.' 'By so these am so rapid blush songs begin.\\n', 'Nor but mean time one over.\\n']\n",
    "\n",
    "for i in strings: \n",
    "    i = i.strip()    # Remember it's the string itself\n",
    "    print(i)"
   ]
  },
  {
   "cell_type": "markdown",
   "metadata": {},
   "source": [
    "We could also do list comprehension to simplify the loop above. This is \n",
    "```python\n",
    "strings = [x.strip() for x in strings]\n",
    "```\n",
    "Where the `x` above represents the elements in the list of strings. "
   ]
  },
  {
   "cell_type": "code",
   "execution_count": null,
   "metadata": {
    "collapsed": true,
    "jupyter": {
     "outputs_hidden": true
    }
   },
   "outputs": [],
   "source": [
    "# Try yourself\n",
    "strings = [x.strip() for x in strings]\n",
    "print(strings)"
   ]
  },
  {
   "cell_type": "markdown",
   "metadata": {},
   "source": [
    "## Reading a File"
   ]
  },
  {
   "cell_type": "markdown",
   "metadata": {},
   "source": [
    "To read a file is easy in Python. Firstly, you will need to create a file object. In the following, we name it as `f`. "
   ]
  },
  {
   "cell_type": "code",
   "execution_count": null,
   "metadata": {
    "solution": "hidden",
    "tags": []
   },
   "outputs": [],
   "source": [
    "f = open('files/first_texts.txt', 'r')"
   ]
  },
  {
   "cell_type": "markdown",
   "metadata": {},
   "source": [
    "The `open()` function is where we assign the variable `f` as a file object. The function accepts 2 parameters: \n",
    "* The file path\n",
    "* The mode, which is `'r'` for reading only. \n",
    "\n",
    "So `f` contains the contents of the file, not just the texts but also the metadata. Let's see by printing `f` as in below. "
   ]
  },
  {
   "cell_type": "code",
   "execution_count": null,
   "metadata": {
    "tags": []
   },
   "outputs": [],
   "source": [
    "# Try yourself, what will be printed\n",
    "print(f)"
   ]
  },
  {
   "cell_type": "markdown",
   "metadata": {},
   "source": [
    "So if printing `f` does not mean printing the lines, what can we do? In Python we have `readlines()` function to extract the texts.  "
   ]
  },
  {
   "cell_type": "code",
   "execution_count": null,
   "metadata": {
    "tags": []
   },
   "outputs": [],
   "source": [
    "# Try yourself, is this enough for later use?\n",
    "f.readlines()"
   ]
  },
  {
   "cell_type": "markdown",
   "metadata": {},
   "source": [
    "The `readlines()` function will extract the texts and put them into a list. We can store them in a variable. How can you do that?"
   ]
  },
  {
   "cell_type": "markdown",
   "metadata": {
    "solution": "hidden",
    "solution2": "hidden",
    "solution2_first": true,
    "solution_first": true
   },
   "source": [
    "__Exercise:__ Later we will use the texts for the exercises. What would you to make this happen? "
   ]
  },
  {
   "cell_type": "code",
   "execution_count": 6,
   "metadata": {
    "solution": "hidden",
    "solution2": "hidden"
   },
   "outputs": [
    {
     "data": {
      "text/plain": [
       "[\"Oh! It's me here. My name is Sherry and I come from Mars.\"]"
      ]
     },
     "execution_count": 6,
     "metadata": {},
     "output_type": "execute_result"
    }
   ],
   "source": [
    "# Solution, variable name is an example\n",
    "text = f.readlines()\n",
    "text"
   ]
  },
  {
   "cell_type": "code",
   "execution_count": null,
   "metadata": {
    "tags": []
   },
   "outputs": [],
   "source": [
    "# Your code below\n"
   ]
  },
  {
   "cell_type": "markdown",
   "metadata": {},
   "source": [
    "Finally, we need to close the file (i.e. disconnect the program with the text file). This could prevent bugs happening, especially if we are reading then writing files in the next. To close the file, we do "
   ]
  },
  {
   "cell_type": "code",
   "execution_count": null,
   "metadata": {
    "tags": []
   },
   "outputs": [],
   "source": [
    "# Try yourself\n",
    "f.close()"
   ]
  },
  {
   "cell_type": "markdown",
   "metadata": {},
   "source": [
    "The process of reading (or writing) a file is simple as opening a file, then do something (directly) with the file and close it. The following is the flowchart of what was done above. "
   ]
  },
  {
   "cell_type": "code",
   "execution_count": 1,
   "metadata": {},
   "outputs": [
    {
     "data": {
      "image/png": "[encoded data removed]",
      "text/plain": [
       "<IPython.core.display.Image object>"
      ]
     },
     "execution_count": 1,
     "metadata": {},
     "output_type": "execute_result"
    }
   ],
   "source": [
    "from IPython.display import Image\n",
    "Image(\"fig/read_file.png\")"
   ]
  },
  {
   "cell_type": "markdown",
   "metadata": {},
   "source": [
    "The process means users must remember to open a file, and close it manually. If the user does not remember to close it it could be a problem. However, there is a more faster way to handle files in Python. This is using the `with` keyword. Let us see how it is used with `readline()`. Which is the one-line version of `readlines()`. "
   ]
  },
  {
   "cell_type": "code",
   "execution_count": null,
   "metadata": {
    "tags": []
   },
   "outputs": [],
   "source": [
    "# Try yourself\n",
    "with open('files/negative-words.txt', 'r') as pos_f: \n",
    "    string = pos_f.readline()"
   ]
  },
  {
   "cell_type": "code",
   "execution_count": null,
   "metadata": {
    "tags": []
   },
   "outputs": [],
   "source": [
    "# Try yourself\n",
    "print(string)"
   ]
  },
  {
   "cell_type": "markdown",
   "metadata": {},
   "source": [
    "Of course, with `readlines()`. "
   ]
  },
  {
   "cell_type": "code",
   "execution_count": null,
   "metadata": {
    "tags": []
   },
   "outputs": [],
   "source": [
    "# Try yourself\n",
    "with open('files/negative-words.txt', 'r') as pos_fs: \n",
    "    strings_ls = pos_fs.readlines()"
   ]
  },
  {
   "cell_type": "code",
   "execution_count": null,
   "metadata": {
    "tags": []
   },
   "outputs": [],
   "source": [
    "# Try yourself\n",
    "print(strings_ls)"
   ]
  },
  {
   "cell_type": "markdown",
   "metadata": {},
   "source": [
    "__Exercise:__ Create a text file with (random) texts, or any existing `.txt` files. Write a code that will read the file and list them line by line. "
   ]
  },
  {
   "cell_type": "code",
   "execution_count": null,
   "metadata": {
    "tags": []
   },
   "outputs": [],
   "source": [
    "# Your code\n"
   ]
  },
  {
   "cell_type": "markdown",
   "metadata": {},
   "source": [
    "One more note before we finish. Python will find the file when reading it. If they cannot find the file, an exception will be raised. We will talk about this at the end of class. "
   ]
  },
  {
   "cell_type": "markdown",
   "metadata": {},
   "source": [
    "### File Path: Absolute and Relative Path"
   ]
  },
  {
   "cell_type": "markdown",
   "metadata": {},
   "source": [
    "In this exercise, we obtained our data files from a folder called `files/`. This folder is located one level below from our class sheets. To let Python find our files, we need to specify the file path in the `open()` function. Remember the file path was \n",
    "```bash\n",
    "files/negative-words.txt\n",
    "```\n",
    "This is to ask Python to find the folder (from where this document locates) called `files`. The `negative-words.txt` is there. In Python, we use either \n",
    "* abolute file path\n",
    "* relative file path"
   ]
  },
  {
   "cell_type": "markdown",
   "metadata": {},
   "source": [
    "An absolute file path means the path from the absolute top. In Windows, it is the drives (e.g. `C:` or `D:`). In Linux, it is `usr`. You can find the abolute path by clicking the address in your file explorer. "
   ]
  },
  {
   "cell_type": "code",
   "execution_count": 7,
   "metadata": {},
   "outputs": [
    {
     "data": {
      "image/png": "[encoded data removed]",
      "text/plain": [
       "<IPython.core.display.Image object>"
      ]
     },
     "execution_count": 7,
     "metadata": {},
     "output_type": "execute_result"
    }
   ],
   "source": [
    "from IPython.display import Image\n",
    "Image(\"fig/file_explorer.png\")"
   ]
  },
  {
   "cell_type": "markdown",
   "metadata": {},
   "source": [
    "In most cases, especially when your code needs to be used at some other computers. The path file in your computer does not apply to the other. So we need the relative file path. It means __where is your target file relative to where we are at the moment__. Let us say our class file is located in a folder called `Python Course`. Which the structure of the files are as below: \n",
    "```\n",
    "Python Course\n",
    "|_ Week 01.ipynb\n",
    "|_ Week 02.ipynb\n",
    "|_ ...\n",
    "|_ files\n",
    "|  |_ sample_text.txt\n",
    "|  |_ first_texts.txt\n",
    "|_ modules\n",
    "|  |_ __init__.py\n",
    "|  |_ happy_function.py\n",
    "|_ hw\n",
    "|  |_ Week 01.pdf\n",
    "|  |_ Week 02.pdf\n",
    "|  ...\n",
    "|_ fig\n",
    "   |_ test\n",
    "   |  |_ test01.png\n",
    "   |_ file_explorer.png\n",
    "   |_ toilet.png\n",
    "```\n",
    "\n",
    "So to find `sample.txt`, we need to use a stroke `/` to say this folder is under where we are currently located. Which means the relative file path is `files/sample.txt`. Note where the stroke is located. "
   ]
  },
  {
   "cell_type": "markdown",
   "metadata": {},
   "source": [
    "For files in lower levels, such as `test_01.png` under the `test` folder. We would need more strokes like `fig/test/test_01.png`. \n",
    "\n",
    "Note that the current folder was not mentioned anywhere in the file path. "
   ]
  },
  {
   "cell_type": "markdown",
   "metadata": {
    "solution": "hidden",
    "solution_first": true
   },
   "source": [
    "__Exericse:__ You need to run analysis of the photos in your computer. Your analysis program is located at the `cat_photos` folder. The file you will need to import is called `metadata.txt`. How would you write the relative file path in the `.open()` function? The following is the folder structure. \n",
    "```\n",
    "cat_photos\n",
    "|_ 2017\n",
    "|  |_ init.py\n",
    "|  |_ metadata.txt\n",
    "|_ 2018\n",
    "```"
   ]
  },
  {
   "cell_type": "markdown",
   "metadata": {
    "solution": "hidden"
   },
   "source": [
    "The filepath is ```2017/metadata.txt```. "
   ]
  },
  {
   "cell_type": "code",
   "execution_count": null,
   "metadata": {
    "tags": []
   },
   "outputs": [],
   "source": [
    "# Just the filepath below\n"
   ]
  },
  {
   "cell_type": "markdown",
   "metadata": {},
   "source": [
    "If one needs to find the file in __above level__, the __dot__ `.` operator would be helpful. For example, the folder `Python Course` is located under `My Documents`. To find a file in `My Documents`, we will need to use `./some_file.txt`. \n",
    "\n",
    "If one needs to go one more level upwards, then we will need more dots in our file path. Such as `..`. "
   ]
  },
  {
   "cell_type": "markdown",
   "metadata": {},
   "source": [
    "## Writing a File"
   ]
  },
  {
   "cell_type": "markdown",
   "metadata": {},
   "source": [
    "When Python is about to write a file, it does not have to be an existing file. In the following, let us write into a file called `my_posts.txt`. Before this __let us check if the file is in the `/files` directory.__ If there is no such file, then let's continue.  "
   ]
  },
  {
   "cell_type": "markdown",
   "metadata": {},
   "source": [
    "To write a file, there are 2 points that differs with previously when we read a file. Which are: \n",
    "* In opening a file, we use `'w'` instead of `'r'`. \n",
    "* We use `write()` function to write what we want. However, the contents are located inside the brackets (e.g. `write('I am writing to you...')`.  "
   ]
  },
  {
   "cell_type": "markdown",
   "metadata": {
    "solution": "hidden",
    "solution_first": true
   },
   "source": [
    "__Exercise:__ Write a code that will write texts into `my_posts.txt`. At the moment, there are no texts to be written in. Use the `with` keyword. "
   ]
  },
  {
   "cell_type": "code",
   "execution_count": null,
   "metadata": {
    "tags": []
   },
   "outputs": [],
   "source": [
    "# Your code below\n"
   ]
  },
  {
   "cell_type": "code",
   "execution_count": null,
   "metadata": {
    "solution": "hidden",
    "tags": []
   },
   "outputs": [],
   "source": [
    "# Solution\n",
    "with open('files/my_posts.txt', 'w') as my_file: \n",
    "    write()"
   ]
  },
  {
   "cell_type": "markdown",
   "metadata": {},
   "source": [
    "### Append Contents into a File"
   ]
  },
  {
   "cell_type": "markdown",
   "metadata": {},
   "source": [
    "To append contents into a file, we will need to change the open mode as `'a'`. This is for appending texts. Again, Python will create the file is not exists. "
   ]
  },
  {
   "cell_type": "markdown",
   "metadata": {
    "solution": "hidden",
    "solution_first": true
   },
   "source": [
    "__Exercise:__ You would like to write one more message into `my_posts.txt`. Write a code to do that. An `input()` function may help you to input the message. "
   ]
  },
  {
   "cell_type": "code",
   "execution_count": null,
   "metadata": {
    "tags": []
   },
   "outputs": [],
   "source": [
    "# Your code below\n"
   ]
  },
  {
   "cell_type": "code",
   "execution_count": null,
   "metadata": {
    "solution": "hidden",
    "tags": []
   },
   "outputs": [],
   "source": [
    "# Solution\n",
    "with open('files/my_posts.txt', 'a') as file_2: \n",
    "    file_2.write(input())"
   ]
  },
  {
   "cell_type": "markdown",
   "metadata": {},
   "source": [
    "## Pandas and Data Frames"
   ]
  },
  {
   "cell_type": "markdown",
   "metadata": {},
   "source": [
    "One application of reading and write files is using data frames from `pandas`. A data frame is an object where the data is stored. It is represented as a tabular data structure, with rows and columns. Rows have a specific index to access them, which can be any name or value. In Pandas, the columns are called __Series__, a special type of data, which in essence consists of a list of several values, where each value has an index. \n",
    "\n",
    "To start with, let us call the package `pandas` by "
   ]
  },
  {
   "cell_type": "code",
   "execution_count": 3,
   "metadata": {},
   "outputs": [],
   "source": [
    "import pandas as pd"
   ]
  },
  {
   "cell_type": "markdown",
   "metadata": {},
   "source": [
    "So in the following, when we are calling the methods from `pandas` we will just use the shortform `pd`. "
   ]
  },
  {
   "cell_type": "markdown",
   "metadata": {},
   "source": [
    "In this course, we will use an existing file called `elementary_particles.csv` in the `files` folder. This a data file about different elementary particles. If you are not sure what it means, there is a [Wikipedia article](https://simple.wikipedia.org/wiki/Elementary_particle) that introduces what they means. \n",
    "\n",
    "To read the file with `pandas`, we write "
   ]
  },
  {
   "cell_type": "code",
   "execution_count": 4,
   "metadata": {},
   "outputs": [],
   "source": [
    "# Run this\n",
    "df = pd.read_csv('files/elementary_particles.csv')"
   ]
  },
  {
   "cell_type": "markdown",
   "metadata": {},
   "source": [
    "Where `df` stands for data frame. It is a conventional variable when using `pandas`. "
   ]
  },
  {
   "cell_type": "markdown",
   "metadata": {},
   "source": [
    "To see what does a data frame mean, we can use the `.head()` method to show the tabular structure. It shows the first rows (specified in the brackets, if not then 5 rows). "
   ]
  },
  {
   "cell_type": "code",
   "execution_count": 3,
   "metadata": {},
   "outputs": [
    {
     "data": {
      "text/html": [
       "<div>\n",
       "<style scoped>\n",
       "    .dataframe tbody tr th:only-of-type {\n",
       "        vertical-align: middle;\n",
       "    }\n",
       "\n",
       "    .dataframe tbody tr th {\n",
       "        vertical-align: top;\n",
       "    }\n",
       "\n",
       "    .dataframe thead th {\n",
       "        text-align: right;\n",
       "    }\n",
       "</style>\n",
       "<table border=\"1\" class=\"dataframe\">\n",
       "  <thead>\n",
       "    <tr style=\"text-align: right;\">\n",
       "      <th></th>\n",
       "      <th>Type</th>\n",
       "      <th>Generation</th>\n",
       "      <th>Spin</th>\n",
       "      <th>Charge</th>\n",
       "      <th>Mass</th>\n",
       "      <th>Interaction</th>\n",
       "    </tr>\n",
       "  </thead>\n",
       "  <tbody>\n",
       "    <tr>\n",
       "      <th>0</th>\n",
       "      <td>Quarks</td>\n",
       "      <td>1.0</td>\n",
       "      <td>0.5</td>\n",
       "      <td>0.67</td>\n",
       "      <td>2.2</td>\n",
       "      <td>NaN</td>\n",
       "    </tr>\n",
       "    <tr>\n",
       "      <th>1</th>\n",
       "      <td>Quarks</td>\n",
       "      <td>1.0</td>\n",
       "      <td>0.5</td>\n",
       "      <td>-0.33</td>\n",
       "      <td>4.6</td>\n",
       "      <td>NaN</td>\n",
       "    </tr>\n",
       "    <tr>\n",
       "      <th>2</th>\n",
       "      <td>Quarks</td>\n",
       "      <td>2.0</td>\n",
       "      <td>0.5</td>\n",
       "      <td>0.67</td>\n",
       "      <td>1280.0</td>\n",
       "      <td>NaN</td>\n",
       "    </tr>\n",
       "    <tr>\n",
       "      <th>3</th>\n",
       "      <td>Quarks</td>\n",
       "      <td>2.0</td>\n",
       "      <td>0.5</td>\n",
       "      <td>-0.33</td>\n",
       "      <td>96.0</td>\n",
       "      <td>NaN</td>\n",
       "    </tr>\n",
       "    <tr>\n",
       "      <th>4</th>\n",
       "      <td>Quarks</td>\n",
       "      <td>3.0</td>\n",
       "      <td>0.5</td>\n",
       "      <td>0.67</td>\n",
       "      <td>173100.0</td>\n",
       "      <td>NaN</td>\n",
       "    </tr>\n",
       "  </tbody>\n",
       "</table>\n",
       "</div>"
      ],
      "text/plain": [
       "     Type  Generation  Spin  Charge      Mass Interaction\n",
       "0  Quarks         1.0   0.5    0.67       2.2         NaN\n",
       "1  Quarks         1.0   0.5   -0.33       4.6         NaN\n",
       "2  Quarks         2.0   0.5    0.67    1280.0         NaN\n",
       "3  Quarks         2.0   0.5   -0.33      96.0         NaN\n",
       "4  Quarks         3.0   0.5    0.67  173100.0         NaN"
      ]
     },
     "execution_count": 3,
     "metadata": {},
     "output_type": "execute_result"
    }
   ],
   "source": [
    "# Try yourself, change the parameter to see how many first rows you wanted to see. \n",
    "df.head()"
   ]
  },
  {
   "cell_type": "markdown",
   "metadata": {
    "solution": "hidden",
    "solution_first": true
   },
   "source": [
    "__Exercise:__ How can you view the first __3__ rows?"
   ]
  },
  {
   "cell_type": "code",
   "execution_count": 5,
   "metadata": {
    "solution": "hidden"
   },
   "outputs": [
    {
     "data": {
      "text/html": [
       "<div>\n",
       "<style scoped>\n",
       "    .dataframe tbody tr th:only-of-type {\n",
       "        vertical-align: middle;\n",
       "    }\n",
       "\n",
       "    .dataframe tbody tr th {\n",
       "        vertical-align: top;\n",
       "    }\n",
       "\n",
       "    .dataframe thead th {\n",
       "        text-align: right;\n",
       "    }\n",
       "</style>\n",
       "<table border=\"1\" class=\"dataframe\">\n",
       "  <thead>\n",
       "    <tr style=\"text-align: right;\">\n",
       "      <th></th>\n",
       "      <th>Type</th>\n",
       "      <th>Generation</th>\n",
       "      <th>Spin</th>\n",
       "      <th>Charge</th>\n",
       "      <th>Mass</th>\n",
       "      <th>Interaction</th>\n",
       "    </tr>\n",
       "  </thead>\n",
       "  <tbody>\n",
       "    <tr>\n",
       "      <th>0</th>\n",
       "      <td>Quarks</td>\n",
       "      <td>1.0</td>\n",
       "      <td>0.5</td>\n",
       "      <td>0.67</td>\n",
       "      <td>2.2</td>\n",
       "      <td>NaN</td>\n",
       "    </tr>\n",
       "    <tr>\n",
       "      <th>1</th>\n",
       "      <td>Quarks</td>\n",
       "      <td>1.0</td>\n",
       "      <td>0.5</td>\n",
       "      <td>-0.33</td>\n",
       "      <td>4.6</td>\n",
       "      <td>NaN</td>\n",
       "    </tr>\n",
       "    <tr>\n",
       "      <th>2</th>\n",
       "      <td>Quarks</td>\n",
       "      <td>2.0</td>\n",
       "      <td>0.5</td>\n",
       "      <td>0.67</td>\n",
       "      <td>1280.0</td>\n",
       "      <td>NaN</td>\n",
       "    </tr>\n",
       "  </tbody>\n",
       "</table>\n",
       "</div>"
      ],
      "text/plain": [
       "     Type  Generation  Spin  Charge    Mass Interaction\n",
       "0  Quarks         1.0   0.5    0.67     2.2         NaN\n",
       "1  Quarks         1.0   0.5   -0.33     4.6         NaN\n",
       "2  Quarks         2.0   0.5    0.67  1280.0         NaN"
      ]
     },
     "execution_count": 5,
     "metadata": {},
     "output_type": "execute_result"
    }
   ],
   "source": [
    "# Solution\n",
    "df.head(3)"
   ]
  },
  {
   "cell_type": "code",
   "execution_count": null,
   "metadata": {},
   "outputs": [],
   "source": [
    "# Your code \n",
    "df.head()"
   ]
  },
  {
   "cell_type": "markdown",
   "metadata": {},
   "source": [
    "We can see the data frame with the `.tail()` method. This will show the last n-th records. "
   ]
  },
  {
   "cell_type": "code",
   "execution_count": 4,
   "metadata": {},
   "outputs": [
    {
     "data": {
      "text/html": [
       "<div>\n",
       "<style scoped>\n",
       "    .dataframe tbody tr th:only-of-type {\n",
       "        vertical-align: middle;\n",
       "    }\n",
       "\n",
       "    .dataframe tbody tr th {\n",
       "        vertical-align: top;\n",
       "    }\n",
       "\n",
       "    .dataframe thead th {\n",
       "        text-align: right;\n",
       "    }\n",
       "</style>\n",
       "<table border=\"1\" class=\"dataframe\">\n",
       "  <thead>\n",
       "    <tr style=\"text-align: right;\">\n",
       "      <th></th>\n",
       "      <th>Type</th>\n",
       "      <th>Generation</th>\n",
       "      <th>Spin</th>\n",
       "      <th>Charge</th>\n",
       "      <th>Mass</th>\n",
       "      <th>Interaction</th>\n",
       "    </tr>\n",
       "  </thead>\n",
       "  <tbody>\n",
       "    <tr>\n",
       "      <th>16</th>\n",
       "      <td>Bosons</td>\n",
       "      <td>NaN</td>\n",
       "      <td>0.0</td>\n",
       "      <td>0.0</td>\n",
       "      <td>125.9</td>\n",
       "      <td>Mass</td>\n",
       "    </tr>\n",
       "    <tr>\n",
       "      <th>17</th>\n",
       "      <td>Bosons</td>\n",
       "      <td>NaN</td>\n",
       "      <td>2.0</td>\n",
       "      <td>0.0</td>\n",
       "      <td>0.0</td>\n",
       "      <td>Gravitation</td>\n",
       "    </tr>\n",
       "    <tr>\n",
       "      <th>18</th>\n",
       "      <td>NaN</td>\n",
       "      <td>NaN</td>\n",
       "      <td>NaN</td>\n",
       "      <td>NaN</td>\n",
       "      <td>NaN</td>\n",
       "      <td>NaN</td>\n",
       "    </tr>\n",
       "    <tr>\n",
       "      <th>19</th>\n",
       "      <td>NaN</td>\n",
       "      <td>NaN</td>\n",
       "      <td>NaN</td>\n",
       "      <td>NaN</td>\n",
       "      <td>NaN</td>\n",
       "      <td>NaN</td>\n",
       "    </tr>\n",
       "    <tr>\n",
       "      <th>20</th>\n",
       "      <td>NaN</td>\n",
       "      <td>NaN</td>\n",
       "      <td>NaN</td>\n",
       "      <td>NaN</td>\n",
       "      <td>NaN</td>\n",
       "      <td>NaN</td>\n",
       "    </tr>\n",
       "  </tbody>\n",
       "</table>\n",
       "</div>"
      ],
      "text/plain": [
       "      Type  Generation  Spin  Charge   Mass  Interaction\n",
       "16  Bosons         NaN   0.0     0.0  125.9         Mass\n",
       "17  Bosons         NaN   2.0     0.0    0.0  Gravitation\n",
       "18     NaN         NaN   NaN     NaN    NaN          NaN\n",
       "19     NaN         NaN   NaN     NaN    NaN          NaN\n",
       "20     NaN         NaN   NaN     NaN    NaN          NaN"
      ]
     },
     "execution_count": 4,
     "metadata": {},
     "output_type": "execute_result"
    }
   ],
   "source": [
    "# Try yourself, change the parameter to see how many last rows you wanted to see. \n",
    "df.tail()"
   ]
  },
  {
   "cell_type": "markdown",
   "metadata": {},
   "source": [
    "If we want to know the names of the __columns__ or the __names__ of the indexes, we can use the DataFrame attributes columns and index respectively. The names of the columns or indexes can be changed by assigning a new list of the same length to these attributes."
   ]
  },
  {
   "cell_type": "code",
   "execution_count": null,
   "metadata": {
    "collapsed": true,
    "jupyter": {
     "outputs_hidden": true
    }
   },
   "outputs": [],
   "source": [
    "df.column"
   ]
  },
  {
   "cell_type": "code",
   "execution_count": null,
   "metadata": {
    "collapsed": true,
    "jupyter": {
     "outputs_hidden": true
    }
   },
   "outputs": [],
   "source": [
    "df.index"
   ]
  },
  {
   "cell_type": "code",
   "execution_count": null,
   "metadata": {
    "collapsed": true,
    "jupyter": {
     "outputs_hidden": true
    }
   },
   "outputs": [],
   "source": [
    "df.values"
   ]
  },
  {
   "cell_type": "markdown",
   "metadata": {},
   "source": [
    "A compact way of doing above is using the `.shape` attribute. It will return the number of rows (record), the number of columns (features). "
   ]
  },
  {
   "cell_type": "code",
   "execution_count": 9,
   "metadata": {},
   "outputs": [
    {
     "data": {
      "text/plain": [
       "(21, 6)"
      ]
     },
     "execution_count": 9,
     "metadata": {},
     "output_type": "execute_result"
    }
   ],
   "source": [
    "df.shape"
   ]
  },
  {
   "cell_type": "markdown",
   "metadata": {},
   "source": [
    "__Exercise:__ How many rows and columns are there in `df`?"
   ]
  },
  {
   "cell_type": "markdown",
   "metadata": {},
   "source": [
    "There are \n",
    "* 21 rows and, \n",
    "* 6 columns. "
   ]
  },
  {
   "cell_type": "markdown",
   "metadata": {
    "solution": "hidden",
    "solution_first": true
   },
   "source": [
    "__Exercise:__ How can I access the number of rows in `df` using `df.shape`?"
   ]
  },
  {
   "cell_type": "code",
   "execution_count": null,
   "metadata": {},
   "outputs": [],
   "source": [
    "# Your code below\n"
   ]
  },
  {
   "cell_type": "code",
   "execution_count": 13,
   "metadata": {
    "solution": "hidden"
   },
   "outputs": [
    {
     "data": {
      "text/plain": [
       "21"
      ]
     },
     "execution_count": 13,
     "metadata": {},
     "output_type": "execute_result"
    }
   ],
   "source": [
    "# Solution\n",
    "'''df.shape is a tuple so we find the 0th element. '''\n",
    "df.shape[0]"
   ]
  },
  {
   "cell_type": "markdown",
   "metadata": {},
   "source": [
    "If we just want quick statistical information on all the numeric columns in a data frame, we can use the `.describe()` method. The result shows \n",
    "* count\n",
    "* mean\n",
    "* standard deviation \n",
    "* minimum and maximum, and\n",
    "* the percentiles, by default, the 25th, 50th, and 75th, \n",
    "for all the values in each column or series. This is already shown in the homework in week 2. "
   ]
  },
  {
   "cell_type": "code",
   "execution_count": null,
   "metadata": {},
   "outputs": [],
   "source": [
    "# Try this\n",
    "df.describe()"
   ]
  },
  {
   "cell_type": "markdown",
   "metadata": {
    "solution": "hidden"
   },
   "source": [
    "You can see that not all columns are included in the table. This is because by default it will show only numerical columns. That said, `.describe()`has an option called `include`. You can investigate that to see which one suits you. For example, \n",
    "* To see all columns, use `include='all'`, \n",
    "* To see all other columns, use `include=[object]`, \n",
    "* To see all categorical columns, use `include=['category']`, \n",
    "* The default option uses `include=[np.number]`. "
   ]
  },
  {
   "cell_type": "markdown",
   "metadata": {},
   "source": [
    "__Exercise:__ Identify the statistical information using the `describe()` as in your week 2 homework. "
   ]
  },
  {
   "cell_type": "markdown",
   "metadata": {},
   "source": [
    "If we wanted to select the data from a particular column, we use the syntax learnt from dictionaries. For example, to select `'Spin'` we write "
   ]
  },
  {
   "cell_type": "code",
   "execution_count": null,
   "metadata": {
    "tags": []
   },
   "outputs": [],
   "source": [
    "df['Spin']"
   ]
  },
  {
   "cell_type": "markdown",
   "metadata": {},
   "source": [
    "More often, we don't need all rows but relevant ones. This means we select the data based on a criteria. To do this we "
   ]
  },
  {
   "cell_type": "code",
   "execution_count": null,
   "metadata": {},
   "outputs": [],
   "source": [
    "df[df['Spin'] > 0]"
   ]
  },
  {
   "cell_type": "code",
   "execution_count": null,
   "metadata": {
    "tags": []
   },
   "outputs": [],
   "source": [
    "# We can see their difference by finding their number of rows. \n",
    "df['Spin'].size()\n",
    "df[df['Spin'] > 0].size()"
   ]
  },
  {
   "cell_type": "markdown",
   "metadata": {},
   "source": [
    "If we wish to select some of the records (rows), we could slice the rows. This can be done by "
   ]
  },
  {
   "cell_type": "code",
   "execution_count": 12,
   "metadata": {},
   "outputs": [
    {
     "data": {
      "text/html": [
       "<div>\n",
       "<style scoped>\n",
       "    .dataframe tbody tr th:only-of-type {\n",
       "        vertical-align: middle;\n",
       "    }\n",
       "\n",
       "    .dataframe tbody tr th {\n",
       "        vertical-align: top;\n",
       "    }\n",
       "\n",
       "    .dataframe thead th {\n",
       "        text-align: right;\n",
       "    }\n",
       "</style>\n",
       "<table border=\"1\" class=\"dataframe\">\n",
       "  <thead>\n",
       "    <tr style=\"text-align: right;\">\n",
       "      <th></th>\n",
       "      <th>Type</th>\n",
       "      <th>Generation</th>\n",
       "      <th>Spin</th>\n",
       "      <th>Charge</th>\n",
       "      <th>Mass</th>\n",
       "      <th>Interaction</th>\n",
       "    </tr>\n",
       "  </thead>\n",
       "  <tbody>\n",
       "    <tr>\n",
       "      <th>1</th>\n",
       "      <td>Quarks</td>\n",
       "      <td>1.0</td>\n",
       "      <td>0.5</td>\n",
       "      <td>-0.33</td>\n",
       "      <td>4.6</td>\n",
       "      <td>NaN</td>\n",
       "    </tr>\n",
       "    <tr>\n",
       "      <th>2</th>\n",
       "      <td>Quarks</td>\n",
       "      <td>2.0</td>\n",
       "      <td>0.5</td>\n",
       "      <td>0.67</td>\n",
       "      <td>1280.0</td>\n",
       "      <td>NaN</td>\n",
       "    </tr>\n",
       "    <tr>\n",
       "      <th>3</th>\n",
       "      <td>Quarks</td>\n",
       "      <td>2.0</td>\n",
       "      <td>0.5</td>\n",
       "      <td>-0.33</td>\n",
       "      <td>96.0</td>\n",
       "      <td>NaN</td>\n",
       "    </tr>\n",
       "    <tr>\n",
       "      <th>4</th>\n",
       "      <td>Quarks</td>\n",
       "      <td>3.0</td>\n",
       "      <td>0.5</td>\n",
       "      <td>0.67</td>\n",
       "      <td>173100.0</td>\n",
       "      <td>NaN</td>\n",
       "    </tr>\n",
       "    <tr>\n",
       "      <th>5</th>\n",
       "      <td>Quarks</td>\n",
       "      <td>3.0</td>\n",
       "      <td>0.5</td>\n",
       "      <td>-0.33</td>\n",
       "      <td>4180.0</td>\n",
       "      <td>NaN</td>\n",
       "    </tr>\n",
       "  </tbody>\n",
       "</table>\n",
       "</div>"
      ],
      "text/plain": [
       "     Type  Generation  Spin  Charge      Mass Interaction\n",
       "1  Quarks         1.0   0.5   -0.33       4.6         NaN\n",
       "2  Quarks         2.0   0.5    0.67    1280.0         NaN\n",
       "3  Quarks         2.0   0.5   -0.33      96.0         NaN\n",
       "4  Quarks         3.0   0.5    0.67  173100.0         NaN\n",
       "5  Quarks         3.0   0.5   -0.33    4180.0         NaN"
      ]
     },
     "execution_count": 12,
     "metadata": {},
     "output_type": "execute_result"
    }
   ],
   "source": [
    "# Try yourself, change the number of rows to be selected \n",
    "df[1: 6]"
   ]
  },
  {
   "cell_type": "markdown",
   "metadata": {},
   "source": [
    "Remember data frame index starts at $0$. "
   ]
  },
  {
   "cell_type": "markdown",
   "metadata": {},
   "source": [
    "Furthermore, if we wish to select a subset of columns, we could do the following "
   ]
  },
  {
   "cell_type": "code",
   "execution_count": null,
   "metadata": {
    "tags": []
   },
   "outputs": [],
   "source": [
    "df[1: 6, ['Type', 'Charge']]"
   ]
  },
  {
   "cell_type": "markdown",
   "metadata": {},
   "source": [
    "If we wanted to select multiple columns, we use double square brakets to do that. For example, if you wanted to see the type and the charge of the particle. You can write "
   ]
  },
  {
   "cell_type": "code",
   "execution_count": null,
   "metadata": {},
   "outputs": [],
   "source": [
    "# Try this\n",
    "df[['Type', 'Charge']]"
   ]
  },
  {
   "cell_type": "markdown",
   "metadata": {},
   "source": [
    "### Group Data"
   ]
  },
  {
   "cell_type": "markdown",
   "metadata": {},
   "source": [
    "Often we will need to see the aggregated results from grouped data. This is done by the `.groupby()` method. "
   ]
  },
  {
   "cell_type": "code",
   "execution_count": 5,
   "metadata": {},
   "outputs": [],
   "source": [
    "# Try this\n",
    "grouped_df = df.groupby(by=['Type'])"
   ]
  },
  {
   "cell_type": "markdown",
   "metadata": {},
   "source": [
    "What will happen? Can you explain that? Run the following code will help you. "
   ]
  },
  {
   "cell_type": "code",
   "execution_count": 9,
   "metadata": {},
   "outputs": [
    {
     "data": {
      "text/html": [
       "<div>\n",
       "<style scoped>\n",
       "    .dataframe tbody tr th:only-of-type {\n",
       "        vertical-align: middle;\n",
       "    }\n",
       "\n",
       "    .dataframe tbody tr th {\n",
       "        vertical-align: top;\n",
       "    }\n",
       "\n",
       "    .dataframe thead th {\n",
       "        text-align: right;\n",
       "    }\n",
       "</style>\n",
       "<table border=\"1\" class=\"dataframe\">\n",
       "  <thead>\n",
       "    <tr style=\"text-align: right;\">\n",
       "      <th></th>\n",
       "      <th>Generation</th>\n",
       "      <th>Spin</th>\n",
       "      <th>Charge</th>\n",
       "      <th>Mass</th>\n",
       "    </tr>\n",
       "    <tr>\n",
       "      <th>Type</th>\n",
       "      <th></th>\n",
       "      <th></th>\n",
       "      <th></th>\n",
       "      <th></th>\n",
       "    </tr>\n",
       "  </thead>\n",
       "  <tbody>\n",
       "    <tr>\n",
       "      <th>Bosons</th>\n",
       "      <td>NaN</td>\n",
       "      <td>1.0</td>\n",
       "      <td>-0.166667</td>\n",
       "      <td>49.578750</td>\n",
       "    </tr>\n",
       "    <tr>\n",
       "      <th>Leptons</th>\n",
       "      <td>2.0</td>\n",
       "      <td>0.5</td>\n",
       "      <td>-0.500000</td>\n",
       "      <td>316.456834</td>\n",
       "    </tr>\n",
       "    <tr>\n",
       "      <th>Quarks</th>\n",
       "      <td>2.0</td>\n",
       "      <td>0.5</td>\n",
       "      <td>0.170000</td>\n",
       "      <td>29777.133333</td>\n",
       "    </tr>\n",
       "  </tbody>\n",
       "</table>\n",
       "</div>"
      ],
      "text/plain": [
       "         Generation  Spin    Charge          Mass\n",
       "Type                                             \n",
       "Bosons          NaN   1.0 -0.166667     49.578750\n",
       "Leptons         2.0   0.5 -0.500000    316.456834\n",
       "Quarks          2.0   0.5  0.170000  29777.133333"
      ]
     },
     "execution_count": 9,
     "metadata": {},
     "output_type": "execute_result"
    }
   ],
   "source": [
    "# Try this\n",
    "df.groupby(by=['Type']).mean()"
   ]
  },
  {
   "cell_type": "markdown",
   "metadata": {
    "solution": "hidden",
    "solution_first": true
   },
   "source": [
    "__Exercise:__ Print the descriptions for all columns in `df`, grouped by `'Type'`. "
   ]
  },
  {
   "cell_type": "code",
   "execution_count": null,
   "metadata": {},
   "outputs": [],
   "source": [
    "# Your code below\n",
    "df.groupby(by=['Type'])"
   ]
  },
  {
   "cell_type": "code",
   "execution_count": 10,
   "metadata": {
    "solution": "hidden"
   },
   "outputs": [
    {
     "data": {
      "text/html": [
       "<div>\n",
       "<style scoped>\n",
       "    .dataframe tbody tr th:only-of-type {\n",
       "        vertical-align: middle;\n",
       "    }\n",
       "\n",
       "    .dataframe tbody tr th {\n",
       "        vertical-align: top;\n",
       "    }\n",
       "\n",
       "    .dataframe thead tr th {\n",
       "        text-align: left;\n",
       "    }\n",
       "\n",
       "    .dataframe thead tr:last-of-type th {\n",
       "        text-align: right;\n",
       "    }\n",
       "</style>\n",
       "<table border=\"1\" class=\"dataframe\">\n",
       "  <thead>\n",
       "    <tr>\n",
       "      <th></th>\n",
       "      <th colspan=\"8\" halign=\"left\">Generation</th>\n",
       "      <th colspan=\"2\" halign=\"left\">Spin</th>\n",
       "      <th>...</th>\n",
       "      <th colspan=\"2\" halign=\"left\">Charge</th>\n",
       "      <th colspan=\"8\" halign=\"left\">Mass</th>\n",
       "    </tr>\n",
       "    <tr>\n",
       "      <th></th>\n",
       "      <th>count</th>\n",
       "      <th>mean</th>\n",
       "      <th>std</th>\n",
       "      <th>min</th>\n",
       "      <th>25%</th>\n",
       "      <th>50%</th>\n",
       "      <th>75%</th>\n",
       "      <th>max</th>\n",
       "      <th>count</th>\n",
       "      <th>mean</th>\n",
       "      <th>...</th>\n",
       "      <th>75%</th>\n",
       "      <th>max</th>\n",
       "      <th>count</th>\n",
       "      <th>mean</th>\n",
       "      <th>std</th>\n",
       "      <th>min</th>\n",
       "      <th>25%</th>\n",
       "      <th>50%</th>\n",
       "      <th>75%</th>\n",
       "      <th>max</th>\n",
       "    </tr>\n",
       "    <tr>\n",
       "      <th>Type</th>\n",
       "      <th></th>\n",
       "      <th></th>\n",
       "      <th></th>\n",
       "      <th></th>\n",
       "      <th></th>\n",
       "      <th></th>\n",
       "      <th></th>\n",
       "      <th></th>\n",
       "      <th></th>\n",
       "      <th></th>\n",
       "      <th></th>\n",
       "      <th></th>\n",
       "      <th></th>\n",
       "      <th></th>\n",
       "      <th></th>\n",
       "      <th></th>\n",
       "      <th></th>\n",
       "      <th></th>\n",
       "      <th></th>\n",
       "      <th></th>\n",
       "      <th></th>\n",
       "    </tr>\n",
       "  </thead>\n",
       "  <tbody>\n",
       "    <tr>\n",
       "      <th>Bosons</th>\n",
       "      <td>0.0</td>\n",
       "      <td>NaN</td>\n",
       "      <td>NaN</td>\n",
       "      <td>NaN</td>\n",
       "      <td>NaN</td>\n",
       "      <td>NaN</td>\n",
       "      <td>NaN</td>\n",
       "      <td>NaN</td>\n",
       "      <td>6.0</td>\n",
       "      <td>1.0</td>\n",
       "      <td>...</td>\n",
       "      <td>0.00</td>\n",
       "      <td>0.00</td>\n",
       "      <td>6.0</td>\n",
       "      <td>49.578750</td>\n",
       "      <td>56.354953</td>\n",
       "      <td>0.000000</td>\n",
       "      <td>0.00000</td>\n",
       "      <td>40.1925</td>\n",
       "      <td>88.486875</td>\n",
       "      <td>125.90</td>\n",
       "    </tr>\n",
       "    <tr>\n",
       "      <th>Leptons</th>\n",
       "      <td>6.0</td>\n",
       "      <td>2.0</td>\n",
       "      <td>0.894427</td>\n",
       "      <td>1.0</td>\n",
       "      <td>1.25</td>\n",
       "      <td>2.0</td>\n",
       "      <td>2.75</td>\n",
       "      <td>3.0</td>\n",
       "      <td>6.0</td>\n",
       "      <td>0.5</td>\n",
       "      <td>...</td>\n",
       "      <td>0.00</td>\n",
       "      <td>0.00</td>\n",
       "      <td>6.0</td>\n",
       "      <td>316.456834</td>\n",
       "      <td>716.627508</td>\n",
       "      <td>0.000002</td>\n",
       "      <td>0.25525</td>\n",
       "      <td>8.0055</td>\n",
       "      <td>83.150000</td>\n",
       "      <td>1776.86</td>\n",
       "    </tr>\n",
       "    <tr>\n",
       "      <th>Quarks</th>\n",
       "      <td>6.0</td>\n",
       "      <td>2.0</td>\n",
       "      <td>0.894427</td>\n",
       "      <td>1.0</td>\n",
       "      <td>1.25</td>\n",
       "      <td>2.0</td>\n",
       "      <td>2.75</td>\n",
       "      <td>3.0</td>\n",
       "      <td>6.0</td>\n",
       "      <td>0.5</td>\n",
       "      <td>...</td>\n",
       "      <td>0.67</td>\n",
       "      <td>0.67</td>\n",
       "      <td>6.0</td>\n",
       "      <td>29777.133333</td>\n",
       "      <td>70231.992745</td>\n",
       "      <td>2.200000</td>\n",
       "      <td>27.45000</td>\n",
       "      <td>688.0000</td>\n",
       "      <td>3455.000000</td>\n",
       "      <td>173100.00</td>\n",
       "    </tr>\n",
       "  </tbody>\n",
       "</table>\n",
       "<p>3 rows × 32 columns</p>\n",
       "</div>"
      ],
      "text/plain": [
       "        Generation                                            Spin       ...  \\\n",
       "             count mean       std  min   25%  50%   75%  max count mean  ...   \n",
       "Type                                                                     ...   \n",
       "Bosons         0.0  NaN       NaN  NaN   NaN  NaN   NaN  NaN   6.0  1.0  ...   \n",
       "Leptons        6.0  2.0  0.894427  1.0  1.25  2.0  2.75  3.0   6.0  0.5  ...   \n",
       "Quarks         6.0  2.0  0.894427  1.0  1.25  2.0  2.75  3.0   6.0  0.5  ...   \n",
       "\n",
       "        Charge        Mass                                                  \\\n",
       "           75%   max count          mean           std       min       25%   \n",
       "Type                                                                         \n",
       "Bosons    0.00  0.00   6.0     49.578750     56.354953  0.000000   0.00000   \n",
       "Leptons   0.00  0.00   6.0    316.456834    716.627508  0.000002   0.25525   \n",
       "Quarks    0.67  0.67   6.0  29777.133333  70231.992745  2.200000  27.45000   \n",
       "\n",
       "                                           \n",
       "              50%          75%        max  \n",
       "Type                                       \n",
       "Bosons    40.1925    88.486875     125.90  \n",
       "Leptons    8.0055    83.150000    1776.86  \n",
       "Quarks   688.0000  3455.000000  173100.00  \n",
       "\n",
       "[3 rows x 32 columns]"
      ]
     },
     "execution_count": 10,
     "metadata": {},
     "output_type": "execute_result"
    }
   ],
   "source": [
    "# Solution\n",
    "df.groupby(by=['Type']).describe()"
   ]
  },
  {
   "cell_type": "markdown",
   "metadata": {},
   "source": [
    "### Manipulate Data Frames"
   ]
  },
  {
   "cell_type": "markdown",
   "metadata": {},
   "source": [
    "Before we start manipulating the data, it is best to remember that everytime __you should create a new column__. It will prevent you from wrecking the data frame in later. To create a new column, we could just assign the formula into a new column name. "
   ]
  },
  {
   "cell_type": "markdown",
   "metadata": {},
   "source": [
    "In this exercise, we crate a sample dataframe. Which is created for you in below: "
   ]
  },
  {
   "cell_type": "code",
   "execution_count": 2,
   "metadata": {},
   "outputs": [
    {
     "data": {
      "text/html": [
       "<div>\n",
       "<style scoped>\n",
       "    .dataframe tbody tr th:only-of-type {\n",
       "        vertical-align: middle;\n",
       "    }\n",
       "\n",
       "    .dataframe tbody tr th {\n",
       "        vertical-align: top;\n",
       "    }\n",
       "\n",
       "    .dataframe thead th {\n",
       "        text-align: right;\n",
       "    }\n",
       "</style>\n",
       "<table border=\"1\" class=\"dataframe\">\n",
       "  <thead>\n",
       "    <tr style=\"text-align: right;\">\n",
       "      <th></th>\n",
       "      <th>a</th>\n",
       "      <th>b</th>\n",
       "    </tr>\n",
       "  </thead>\n",
       "  <tbody>\n",
       "    <tr>\n",
       "      <th>0</th>\n",
       "      <td>1</td>\n",
       "      <td>3</td>\n",
       "    </tr>\n",
       "    <tr>\n",
       "      <th>1</th>\n",
       "      <td>2</td>\n",
       "      <td>4</td>\n",
       "    </tr>\n",
       "    <tr>\n",
       "      <th>2</th>\n",
       "      <td>3</td>\n",
       "      <td>5</td>\n",
       "    </tr>\n",
       "  </tbody>\n",
       "</table>\n",
       "</div>"
      ],
      "text/plain": [
       "   a  b\n",
       "0  1  3\n",
       "1  2  4\n",
       "2  3  5"
      ]
     },
     "execution_count": 2,
     "metadata": {},
     "output_type": "execute_result"
    }
   ],
   "source": [
    "import pandas as pd\n",
    "df01 = pd.DataFrame({'a': [1, 2, 3], 'b': [3, 4, 5]})\n",
    "df01"
   ]
  },
  {
   "cell_type": "markdown",
   "metadata": {},
   "source": [
    "First, let's duplicate all values in column `'b'`. To do so, we write "
   ]
  },
  {
   "cell_type": "code",
   "execution_count": null,
   "metadata": {
    "collapsed": true,
    "jupyter": {
     "outputs_hidden": true
    }
   },
   "outputs": [],
   "source": [
    "# Try yourself, note that the column name was never seen before. \n",
    "df01['b'] = df01['b'] * 2   # Some formulas"
   ]
  },
  {
   "cell_type": "markdown",
   "metadata": {},
   "source": [
    "Once we know how to select the desired data, the next thing we need to know is how to manipulate data. \n",
    "One of the most straightforward things we can do is to operate with columns or rows  using aggregation functions. The following list shows the most common aggregation functions.\n",
    "\n",
    "| Function  | Description | \n",
    "|-----------|-------------|\n",
    "| count()   |Number of non-null observations|  \n",
    "| sum()     |Sum of values|\n",
    "| mean()    |Mean of values            | \n",
    "| median()  |Arithmetic median of values             |\n",
    "| min()     |Minimum|\n",
    "| max()     |Maximum|\n",
    "| prod()    |Product of values|\n",
    "| std()     |Unbiased standard deviation|\n",
    "| var()     | Unbiased variance|\n",
    "\n",
    "The result of all these functions applied to a row or column is always a number. Meanwhile, if a function is applied to a data frame or a selection of rows and columns, then you can specify if the function should be applied to the rows for each column  (putting the **axis=0** keyword on the invocation of the function), or it should be applied on the columns for each row (putting the **axis=1** keyword on the invocation of the function)."
   ]
  },
  {
   "cell_type": "code",
   "execution_count": null,
   "metadata": {
    "tags": []
   },
   "outputs": [],
   "source": [
    "# Run this\n",
    "df01.max(axis=0)"
   ]
  },
  {
   "cell_type": "markdown",
   "metadata": {},
   "source": [
    "Note that these are functions specific to Pandas, not the generic Python functions. There are differences in their implementation. In Python ,`NaN` values propagate through all operations without raising an exception. In contrast, Pandas operations exclude `NaN` values representing missing data. For example, the pandas **max** function excludes `NaN`  values, thus they are interpreted as missing values, while the standard Python **max** function will take the mathematical interpretation of `NaN` and return it as the maximum:"
   ]
  },
  {
   "cell_type": "code",
   "execution_count": null,
   "metadata": {
    "tags": []
   },
   "outputs": [],
   "source": [
    "# Run this\n",
    "print('Pandas max function:', df01['b'].max())\n",
    "print('Python max function:', max(df01['b']))"
   ]
  },
  {
   "cell_type": "markdown",
   "metadata": {},
   "source": [
    "We can also apply mathematical operators into data frames. This will apply the elementary operations. For example, "
   ]
  },
  {
   "cell_type": "code",
   "execution_count": null,
   "metadata": {
    "tags": []
   },
   "outputs": [],
   "source": [
    "# Run this\n",
    "df01['a'] = df01['a']/2\n",
    "df.head()"
   ]
  },
  {
   "cell_type": "markdown",
   "metadata": {},
   "source": [
    "### Add or Remove Columns or Rows"
   ]
  },
  {
   "cell_type": "markdown",
   "metadata": {},
   "source": [
    "If we wanted to add a new column, we simply define a new column as like in dictionaries. For example, to add a new column `'c'` we write: "
   ]
  },
  {
   "cell_type": "code",
   "execution_count": null,
   "metadata": {},
   "outputs": [],
   "source": [
    "# Run this\n",
    "df01['c'] = [6, 7, 8]"
   ]
  },
  {
   "cell_type": "markdown",
   "metadata": {},
   "source": [
    "If we wish to remove a row/ column, we use `.drop()` method. This removes the indicated rows if `axis=0`, or the indicated columns if `axis=1`. \n",
    "```python\n",
    "# Remove column `'c'`, remember to add `axis=1`\n",
    "df.drop(['c'], axis=1)\n",
    "\n",
    "# Remove 0-th row\n",
    "df.drop([0], axis=0)\n",
    "```\n",
    "\n",
    "At this point, we are not going to remove any rows as they are for the next exercise. "
   ]
  },
  {
   "cell_type": "markdown",
   "metadata": {},
   "source": [
    "If we wish to append a row, we could use the `.append()` method. Note that Python will copy the data frame each time, it means this method is not as efficient. You must be aware to setting the `ignore_index` flag in the append method to `True`, otherwise the index `0` is given to this new row, what will produce an error if it already exists. "
   ]
  },
  {
   "cell_type": "markdown",
   "metadata": {
    "solution": "hidden",
    "solution_first": true
   },
   "source": [
    "__Exercise:__ The elementary particles dataset does not include the name of the particles. Use your research and find out which row belongs to what particles. Create a column called `'Name'` for `df`. "
   ]
  },
  {
   "cell_type": "code",
   "execution_count": null,
   "metadata": {},
   "outputs": [],
   "source": [
    "# Your code below\n"
   ]
  },
  {
   "cell_type": "code",
   "execution_count": null,
   "metadata": {
    "solution": "hidden"
   },
   "outputs": [],
   "source": [
    "# Solution\n",
    "df['Name'] = ['Up', 'Down', 'Charm', 'Strange', 'Top', 'Bottom', 'Electron', 'Electron neutrino', 'Muon', 'Muon neutrino', 'Tau', 'Tau neutrino', 'Photon', 'W boson', 'Z boson', 'Gluon', 'Higgs boson', 'Graviton']"
   ]
  },
  {
   "cell_type": "markdown",
   "metadata": {},
   "source": [
    "### Looping in Data Frames"
   ]
  },
  {
   "cell_type": "markdown",
   "metadata": {},
   "source": [
    "Each rows in data frames are called `Series` object. Often when we are iterating with objects, it is faster (for computers) to use the `.apply()` method to loop over them. This can be done by "
   ]
  },
  {
   "cell_type": "code",
   "execution_count": null,
   "metadata": {
    "tags": []
   },
   "outputs": [],
   "source": [
    "# Try yourself.\n",
    "import numpy as np\n",
    "df['c'].apply(np.sqrt)\n",
    "df['c'].head()"
   ]
  },
  {
   "cell_type": "markdown",
   "metadata": {},
   "source": [
    "To apply more complicated functions, can also use lambda functions in `.apply()`. "
   ]
  },
  {
   "cell_type": "code",
   "execution_count": null,
   "metadata": {
    "tags": []
   },
   "outputs": [],
   "source": [
    "df['a'].apply(lambda x: 2*x)\n",
    "df.head()"
   ]
  },
  {
   "cell_type": "markdown",
   "metadata": {},
   "source": [
    "We can also manipulate multiple columns to obtain new data. In this case, we are creating a column `'d'` and it is the element-wise division of columns `'a'` and `'c'`. "
   ]
  },
  {
   "cell_type": "code",
   "execution_count": null,
   "metadata": {
    "tags": []
   },
   "outputs": [],
   "source": [
    "df['d'] = df['a']/df['c']\n",
    "df['d'].head()"
   ]
  },
  {
   "cell_type": "markdown",
   "metadata": {},
   "source": [
    "### Apply in Data Frame Elements (Optional)"
   ]
  },
  {
   "cell_type": "markdown",
   "metadata": {},
   "source": [
    "Remember last week we talked about `map()` and `reduce()`? In `pandas` data frames, they offer `apply()` method which acts like the `map()` function. First we initiate a new data frame. "
   ]
  },
  {
   "cell_type": "code",
   "execution_count": null,
   "metadata": {},
   "outputs": [],
   "source": [
    "import pandas as pd\n",
    "\n",
    "df = pd.DataFrame({\"A\": [1, 2, 3, 4, 5]})\n",
    "df"
   ]
  },
  {
   "cell_type": "markdown",
   "metadata": {},
   "source": [
    "For example, we double the values and use `.apply()` for that. "
   ]
  },
  {
   "cell_type": "code",
   "execution_count": null,
   "metadata": {},
   "outputs": [],
   "source": [
    "df.apply(lambda x: 2 * x)"
   ]
  },
  {
   "cell_type": "markdown",
   "metadata": {},
   "source": [
    "For functions like `reduce()` we can use the native methods from `numpy`. "
   ]
  },
  {
   "cell_type": "code",
   "execution_count": null,
   "metadata": {},
   "outputs": [],
   "source": [
    "import numpy as np\n",
    "\n",
    "df.apply(np.sum)"
   ]
  },
  {
   "cell_type": "markdown",
   "metadata": {},
   "source": [
    "How about the filter function? This is already covered when we try to condition from columns. This is one convenient functions that `pandas` data frame can offer. "
   ]
  },
  {
   "cell_type": "markdown",
   "metadata": {},
   "source": [
    "As a note, these functions including lambda functions are not restricted to numerical computations. We can use string functions/ methods and apply to string elements. `.apply()` is very useful when comes to complex computations. "
   ]
  },
  {
   "cell_type": "markdown",
   "metadata": {},
   "source": [
    "## Import"
   ]
  },
  {
   "cell_type": "markdown",
   "metadata": {},
   "source": [
    "In this course, we have looked at importing `numpy`. `numpy` contains many useful functions that helped us in computing efficiently. Import is an important part of coding, it saves our time in writing functions and use someone else's. In the following we will use the `math` package. To import `math`, we can write "
   ]
  },
  {
   "cell_type": "code",
   "execution_count": null,
   "metadata": {
    "tags": []
   },
   "outputs": [],
   "source": [
    "# Try yourself\n",
    "import math"
   ]
  },
  {
   "cell_type": "markdown",
   "metadata": {},
   "source": [
    "Let us test the package, to find square root $2$ we can write "
   ]
  },
  {
   "cell_type": "code",
   "execution_count": null,
   "metadata": {
    "tags": []
   },
   "outputs": [],
   "source": [
    "# Try yourself\n",
    "print(math.sqrt(2))"
   ]
  },
  {
   "cell_type": "markdown",
   "metadata": {},
   "source": [
    "If we need to use the `sqrt()` function often, we can use the following to save time. "
   ]
  },
  {
   "cell_type": "code",
   "execution_count": null,
   "metadata": {
    "tags": []
   },
   "outputs": [],
   "source": [
    "# Try yourself\n",
    "from math import sqrt\n",
    "sqrt(2)"
   ]
  },
  {
   "cell_type": "markdown",
   "metadata": {},
   "source": [
    "While import does not limit to built in libraries. We can create our own modules. To do this, it is best to create the modules in the folder in or below our current directory. __Secondly,__ the folder that contains the packages will have an (empty) file called `__init__.py`. \n",
    "\n",
    "Once this has been done, we can import the modules by specifying where it is located. The folder/ file path is what we called as the __package__. For example, our class files has the following folder structure: \n",
    "\n",
    "```\n",
    "...\n",
    "|_ Week 8.ipynb\n",
    "|_ modules\n",
    "  |_ __init__.py\n",
    "  |_ sample_module.py\n",
    "```\n",
    "Let us assume a predfined function was located in the module `sample_module.py`, we can write \n",
    "```python\n",
    "from modules import sample_module\n",
    "```\n",
    "So when we call the functions `sample_module.py`, we do not require to write the file name again. To see this, let us say there is a function called `get_beautiful_picture()` in `sample_module.py`. We can say \n",
    "```python \n",
    "get_beautiful_picture()\n",
    "```\n",
    "without specifying where it comes from. "
   ]
  },
  {
   "cell_type": "markdown",
   "metadata": {
    "solution": "hidden",
    "solution_first": true
   },
   "source": [
    "__Exercise:__ Write a function `get_success()` in a module file called `week08.py`. The Python code will be stored in the `module` folder. \n",
    "\n",
    "Your function `get_success()` will print `'Good job!'` when prompted below. "
   ]
  },
  {
   "cell_type": "code",
   "execution_count": null,
   "metadata": {
    "tags": []
   },
   "outputs": [],
   "source": [
    "# If your code is successful, you will see the message. Write the code below. \n"
   ]
  },
  {
   "cell_type": "code",
   "execution_count": null,
   "metadata": {
    "solution": "hidden",
    "tags": []
   },
   "outputs": [],
   "source": [
    "# Solution\n",
    "import week08\n",
    "print(get_success())"
   ]
  },
  {
   "cell_type": "markdown",
   "metadata": {},
   "source": [
    "## Handling Exceptions"
   ]
  },
  {
   "cell_type": "markdown",
   "metadata": {},
   "source": [
    "By properly handle exception well, you will able to prevent your program ended unexceptedly. This is important when running the code, while before writing the data files, you will wish the code still runs. "
   ]
  },
  {
   "cell_type": "code",
   "execution_count": 3,
   "metadata": {},
   "outputs": [
    {
     "ename": "ZeroDivisionError",
     "evalue": "division by zero",
     "output_type": "error",
     "traceback": [
      "\u001b[0;31m---------------------------------------------------------------------------\u001b[0m",
      "\u001b[0;31mZeroDivisionError\u001b[0m                         Traceback (most recent call last)",
      "\u001b[0;32m<ipython-input-3-6f83451070fb>\u001b[0m in \u001b[0;36m<module>\u001b[0;34m()\u001b[0m\n\u001b[1;32m      1\u001b[0m \u001b[0mdivisor\u001b[0m \u001b[1;33m=\u001b[0m \u001b[1;36m0\u001b[0m\u001b[1;33m\u001b[0m\u001b[0m\n\u001b[1;32m      2\u001b[0m \u001b[1;33m\u001b[0m\u001b[0m\n\u001b[0;32m----> 3\u001b[0;31m \u001b[0mprint\u001b[0m\u001b[1;33m(\u001b[0m\u001b[1;36m22\u001b[0m\u001b[1;33m/\u001b[0m\u001b[1;36m0\u001b[0m\u001b[1;33m)\u001b[0m\u001b[1;33m\u001b[0m\u001b[0m\n\u001b[0m\u001b[1;32m      4\u001b[0m \u001b[0mnumber\u001b[0m \u001b[1;33m=\u001b[0m \u001b[1;36m22\u001b[0m\u001b[1;33m/\u001b[0m\u001b[0mdivisor\u001b[0m\u001b[1;33m\u001b[0m\u001b[0m\n\u001b[1;32m      5\u001b[0m \u001b[0mprint\u001b[0m\u001b[1;33m(\u001b[0m\u001b[1;34m'The number is {}'\u001b[0m\u001b[1;33m.\u001b[0m\u001b[0mformat\u001b[0m\u001b[1;33m(\u001b[0m\u001b[0mnumber\u001b[0m\u001b[1;33m)\u001b[0m\u001b[1;33m)\u001b[0m\u001b[1;33m\u001b[0m\u001b[0m\n",
      "\u001b[0;31mZeroDivisionError\u001b[0m: division by zero"
     ]
    }
   ],
   "source": [
    "divisor = 0\n",
    "\n",
    "print(22/0)\n",
    "number = 22/divisor\n",
    "print('The number is {}'.format(number))"
   ]
  },
  {
   "cell_type": "markdown",
   "metadata": {},
   "source": [
    "To handle the `ZeroDivisionError`, we use the `try` block for our main code. This is the syntax of such. \n",
    "```python\n",
    "try: \n",
    "    pass  # Your main code\n",
    "except ZeroDivisionError:\n",
    "    print('Oh no!')\n",
    "```\n",
    "Let us try to use this as in below. "
   ]
  },
  {
   "cell_type": "code",
   "execution_count": 5,
   "metadata": {},
   "outputs": [
    {
     "name": "stdout",
     "output_type": "stream",
     "text": [
      "The number is 0\n"
     ]
    }
   ],
   "source": [
    "# Try yourself\n",
    "try: \n",
    "    divisor = 0\n",
    "    number = 22/divisor\n",
    "    print('The number is {}'.format(number))\n",
    "except ZeroDivisionError:\n",
    "    number = 0\n",
    "    print('The number is {}'.format(number))"
   ]
  },
  {
   "cell_type": "markdown",
   "metadata": {},
   "source": [
    "We can put `finally` to show after the exception has been show. "
   ]
  },
  {
   "cell_type": "code",
   "execution_count": 6,
   "metadata": {},
   "outputs": [
    {
     "name": "stdout",
     "output_type": "stream",
     "text": [
      "The number is 0\n"
     ]
    }
   ],
   "source": [
    "try: \n",
    "    divisor = 0\n",
    "    number = 22/divisor\n",
    "except ZeroDivisionError:\n",
    "    number = 0\n",
    "finally: \n",
    "    print('The number is {}'.format(number))"
   ]
  },
  {
   "cell_type": "markdown",
   "metadata": {},
   "source": [
    "As you can see, the code will capture the exception and do something while in the `try` block. So __make sure you use `try` statement when you are expecting an exception will be raised.__"
   ]
  },
  {
   "cell_type": "markdown",
   "metadata": {},
   "source": [
    "### Raise"
   ]
  },
  {
   "cell_type": "markdown",
   "metadata": {},
   "source": [
    "Sometimes we would like to prevent incorrect data continue to be computed in a code. So we will need to raise an exception in order to let it continue. To do this we use the `raise` keyword. For example, if we wish to let the code head to `ZeroDivisionError` earlier, we could write \n",
    "```python\n",
    "if condition: \n",
    "    raise ZeroDivisionError\n",
    "```\n",
    "Provide that the condition has occured, so that we need to raise the exception. "
   ]
  },
  {
   "cell_type": "markdown",
   "metadata": {
    "solution": "hidden",
    "solution_first": true
   },
   "source": [
    "__Exercise:__ Write the code which performs the division as above. This time, define a dividor which is what the number will be divided with. Raise the `ZeroDivisionError` at suitable place. "
   ]
  },
  {
   "cell_type": "code",
   "execution_count": null,
   "metadata": {},
   "outputs": [],
   "source": [
    "# Your code below\n"
   ]
  },
  {
   "cell_type": "code",
   "execution_count": null,
   "metadata": {
    "solution": "hidden"
   },
   "outputs": [],
   "source": [
    "# Solution\n",
    "try: \n",
    "    a = 22\n",
    "    b = 0\n",
    "    if b == 0: \n",
    "        raise ZeroDivisionError\n",
    "    num = a/b\n",
    "except ZeroDivisionError: \n",
    "    number = 0\n",
    "finally: \n",
    "    print('The number is {}'.format(number))"
   ]
  },
  {
   "cell_type": "markdown",
   "metadata": {},
   "source": [
    "### Try and Else"
   ]
  },
  {
   "cell_type": "markdown",
   "metadata": {},
   "source": [
    "In the situation that your code will not run into an exception, the `else` block will run. For example, let us come back to the division example. We can write "
   ]
  },
  {
   "cell_type": "code",
   "execution_count": null,
   "metadata": {
    "tags": []
   },
   "outputs": [],
   "source": [
    "# Try yourself \n",
    "try: \n",
    "    divisor = 0\n",
    "    number = 22/divisor\n",
    "except ZeroDivisionError:\n",
    "    number = 0\n",
    "else: \n",
    "    print('The number is {}'.format(number))"
   ]
  },
  {
   "cell_type": "markdown",
   "metadata": {},
   "source": [
    "So in above, change the numbers for example: \n",
    "* a $0$, or\n",
    "* not $0$\n",
    "\n",
    "and note the outcome. What is different when we did not use `finally`? "
   ]
  },
  {
   "cell_type": "markdown",
   "metadata": {},
   "source": [
    "### Continue from Exceptions"
   ]
  },
  {
   "cell_type": "markdown",
   "metadata": {},
   "source": [
    "One reason to handle exceptions is when it occurs, we would want the code to still run. To do that we need: \n",
    "* `while` (or `for`) loop\n",
    "* breaking condition\n",
    "* the `continue` keyword \n",
    "\n",
    "We can see this in the following. Let us say we would like to test some of the input files, and some of them will raise `ValueError`. \n",
    "```python\n",
    "inputs = [...]  # The contents in a list. \n",
    "for i in range(len(input)): \n",
    "    try: \n",
    "        print('This person has the opinion of {}'.format(input[i]))\n",
    "    except ValueError: \n",
    "        continue\n",
    "```"
   ]
  },
  {
   "cell_type": "markdown",
   "metadata": {},
   "source": [
    "We will do an exercise of this later. "
   ]
  },
  {
   "cell_type": "markdown",
   "metadata": {},
   "source": [
    "### TypeError and ValueError"
   ]
  },
  {
   "cell_type": "markdown",
   "metadata": {},
   "source": [
    "In handling errors, the most common exceptions you will see are `TypeError` and `ValueError`. \n",
    "* `ValueError` means the function does not accept this value. \n",
    "* `TypeError` means the function obtained an incorrect type. \n",
    "\n",
    "Let us see from the examples below, try running the cells. "
   ]
  },
  {
   "cell_type": "code",
   "execution_count": null,
   "metadata": {
    "tags": []
   },
   "outputs": [],
   "source": [
    "# Try this \n",
    "from math import sqrt\n",
    "sqrt(-55)"
   ]
  },
  {
   "cell_type": "code",
   "execution_count": null,
   "metadata": {
    "tags": []
   },
   "outputs": [],
   "source": [
    "# Try this\n",
    "sum(-55)"
   ]
  },
  {
   "cell_type": "markdown",
   "metadata": {},
   "source": [
    "From the first example, it not possible to square root a negative number. You can try by multiplying $2$ negative numbers and they will still become a positive number. While in the latter example, the `sum()` function expects a list in order to perform a summation. "
   ]
  },
  {
   "cell_type": "markdown",
   "metadata": {
    "solution": "hidden",
    "solution_first": true
   },
   "source": [
    "__Exercise:__ Write a code that accepts a list of names. If the name given starts with `'A'`, then raise a suitable error. "
   ]
  },
  {
   "cell_type": "code",
   "execution_count": null,
   "metadata": {
    "tags": []
   },
   "outputs": [],
   "source": [
    "# Your code below\n"
   ]
  },
  {
   "cell_type": "code",
   "execution_count": null,
   "metadata": {
    "solution": "hidden",
    "tags": []
   },
   "outputs": [],
   "source": [
    "# Solution\n",
    "for i in range(len(ls)): \n",
    "    try: \n",
    "        if ls[i][0] == 'A': \n",
    "            raise ValueError\n",
    "    except ValueError: \n",
    "        break"
   ]
  },
  {
   "cell_type": "markdown",
   "metadata": {},
   "source": [
    "## Conclusion"
   ]
  },
  {
   "cell_type": "markdown",
   "metadata": {},
   "source": [
    "In the week, we have looked at \n",
    "* How to read and write files\n",
    "* How to use `pandas`\n",
    "* How to handle exceptions\n",
    "\n",
    "Some of the texts are sourced from `github.com/DataScienceUB/introduction-datascience-python-book`. "
   ]
  },
  {
   "cell_type": "markdown",
   "metadata": {},
   "source": [
    "## Further Reading\n",
    "\n",
    "* [https://stackoverflow.com/questions/4383571/importing-files-from-different-folder](https://stackoverflow.com/questions/4383571/importing-files-from-different-folder)\n",
    "* [https://docs.python.org/3/library/exceptions.html](https://docs.python.org/3/library/exceptions.html)"
   ]
  }
 ],
 "metadata": {
  "kernelspec": {
   "display_name": "Python 3 (ipykernel)",
   "language": "python",
   "name": "python3"
  },
  "language_info": {
   "codemirror_mode": {
    "name": "ipython",
    "version": 3
   },
   "file_extension": ".py",
   "mimetype": "text/x-python",
   "name": "python",
   "nbconvert_exporter": "python",
   "pygments_lexer": "ipython3",
   "version": "3.10.9"
  },
  "latex_envs": {
   "LaTeX_envs_menu_present": true,
   "autoclose": true,
   "autocomplete": true,
   "bibliofile": "biblio.bib",
   "cite_by": "apalike",
   "current_citInitial": 1,
   "eqLabelWithNumbers": true,
   "eqNumInitial": 1,
   "hotkeys": {
    "equation": "Ctrl-E",
    "itemize": "Ctrl-I"
   },
   "labels_anchors": false,
   "latex_user_defs": false,
   "report_style_numbering": false,
   "user_envs_cfg": false
  },
  "toc": {
   "base_numbering": 1,
   "nav_menu": {},
   "number_sections": false,
   "sideBar": true,
   "skip_h1_title": false,
   "title_cell": "Table of Contents",
   "title_sidebar": "Contents",
   "toc_cell": false,
   "toc_position": {},
   "toc_section_display": true,
   "toc_window_display": false
  }
 },
 "nbformat": 4,
 "nbformat_minor": 4
}
