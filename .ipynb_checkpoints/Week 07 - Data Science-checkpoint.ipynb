{
 "cells": [
  {
   "cell_type": "markdown",
   "metadata": {},
   "source": [
    "# Week 7 - Data Science"
   ]
  },
  {
   "cell_type": "markdown",
   "metadata": {},
   "source": [
    "## Drill"
   ]
  },
  {
   "cell_type": "markdown",
   "metadata": {
    "solution": "hidden",
    "solution2": "hidden",
    "solution2_first": true,
    "solution_first": true
   },
   "source": [
    "__Exercise:__ Write a function `hasvowel()` which accepts a word input and returns `True` if the word contains vowels. Think about the requirements of the argument and raise them if incorrect. `string.alpha()` might be helpful. "
   ]
  },
  {
   "cell_type": "code",
   "execution_count": null,
   "metadata": {
    "collapsed": true,
    "jupyter": {
     "outputs_hidden": true
    }
   },
   "outputs": [],
   "source": [
    "# Your code below\n"
   ]
  },
  {
   "cell_type": "code",
   "execution_count": null,
   "metadata": {
    "solution": "hidden",
    "solution2": "hidden",
    "tags": []
   },
   "outputs": [],
   "source": [
    "# Solution\n",
    "import string   # or from string import isalpha\n",
    "\n",
    "'''\n",
    "If the argument is not a word (i.e. with spaces or non-letter character/ not a string), then raise ValueError. \n",
    "'''\n",
    "def hasvowel(word): \n",
    "    if type(word) != str: \n",
    "        raise ValueError\n",
    "    # Check spaces and non-letter character\n",
    "    if word.isalpha() == False: \n",
    "        raise ValueError\n",
    "    \n",
    "    if ('a' or 'e' or 'i' or 'o' or 'u') in word:\n",
    "        return True   # Otherwise you will obtain False already\n",
    "        "
   ]
  },
  {
   "cell_type": "markdown",
   "metadata": {
    "solution": "hidden",
    "solution2": "hidden",
    "solution2_first": true,
    "solution_first": true
   },
   "source": [
    "__Exercise:__ In the following, print out the results (__in 2 decimal points__) using the `.format()` method. The computation is given to you. "
   ]
  },
  {
   "cell_type": "code",
   "execution_count": null,
   "metadata": {
    "tags": []
   },
   "outputs": [],
   "source": [
    "from random import randint\n",
    "result = randint(0,122)/100\n",
    "\n",
    "# Your code below\n"
   ]
  },
  {
   "cell_type": "code",
   "execution_count": 7,
   "metadata": {
    "solution": "hidden",
    "solution2": "hidden"
   },
   "outputs": [
    {
     "name": "stdout",
     "output_type": "stream",
     "text": [
      "1.04\n"
     ]
    }
   ],
   "source": [
    "# Solution\n",
    "from random import randint\n",
    "result = randint(0,122)/100\n",
    "\n",
    "print('{0:.2f}'.format(result))"
   ]
  },
  {
   "cell_type": "markdown",
   "metadata": {
    "solution": "hidden",
    "solution2": "hidden",
    "solution2_first": true,
    "solution_first": true
   },
   "source": [
    "__Exercise:__ Design a pandas dataframe which has the following specification. \n",
    "* `id`: Integers of 8 digits, starting by `10000000`.\n",
    "* `name`: String characters.\n",
    "\n",
    "After this, run your code and show the first 5 records of the dataframe you have created. "
   ]
  },
  {
   "cell_type": "code",
   "execution_count": null,
   "metadata": {
    "tags": []
   },
   "outputs": [],
   "source": [
    "# Your code below\n"
   ]
  },
  {
   "cell_type": "code",
   "execution_count": 7,
   "metadata": {
    "solution": "hidden",
    "solution2": "hidden"
   },
   "outputs": [
    {
     "name": "stdout",
     "output_type": "stream",
     "text": [
      "         id    name\n",
      "0  10000000  Shelly\n",
      "1  10000001    Kent\n",
      "2  10000002  Martin\n",
      "3  10000003    John\n",
      "4  10000004    Myra\n"
     ]
    }
   ],
   "source": [
    "# Solution\n",
    "import pandas as pd\n",
    "df = pd.DataFrame({'id':[10000000,10000001,10000002,10000003,10000004],'name':['Shelly','Kent','Martin','John','Myra']})\n",
    "print(df.head(5))"
   ]
  },
  {
   "cell_type": "markdown",
   "metadata": {},
   "source": [
    "## Data Science Process"
   ]
  },
  {
   "cell_type": "markdown",
   "metadata": {},
   "source": [
    "From this week, we will head into data science. Data science is a process to analyse data and extract meanings out of it. Unlike data analytics, data science adds one layer which is to __build a model__. This week we will look into \n",
    "* The first few steps on data science, which constitute most of the data analytics process. \n",
    "* Give a practical exercise on building skills on preparing data. \n",
    "\n",
    "Note that this week we are using a range of examples that you may find bit confusing. In reality not all skills has to be required in all data analytics project. Often some area requires this skills but not others. That is why we employ examples from different areas. "
   ]
  },
  {
   "cell_type": "markdown",
   "metadata": {},
   "source": [
    "In data analytics, there is a standard procedure where data scientists follow to commit a data science project. This is called __CRISP-DM__. It follows from generating the ideas, finding the ingredients to produce a data science product and report them. The following is the flowchart of the process. "
   ]
  },
  {
   "cell_type": "markdown",
   "metadata": {},
   "source": [
    "<img src=\"fig/CRISPDM_Process_Diagram.png\" width=\"540\"/>\n",
    "<figcaption><i>Image from https://www.datasciencecentral.com/profiles/blogs/crisp-dm-a-standard-methodology-to-ensure-a-good-outcome</i></figcaption>"
   ]
  },
  {
   "cell_type": "markdown",
   "metadata": {},
   "source": [
    "## Business Understanding with Domain Knowledge"
   ]
  },
  {
   "cell_type": "markdown",
   "metadata": {},
   "source": [
    "A successful project should __always__ start with understanding the business you are working on. For example\n",
    "* An insurance business should know what their clients working culture (e.g. involves high risk work)\n",
    "* A restaurant should know if their customers likes the seasoning in the food or not.\n",
    "\n",
    "In data analytics project, knowing the business domain knowledge will help us focus on what analysis is required. Sometimes it tells us why the data could be flawed/ skewed. "
   ]
  },
  {
   "cell_type": "markdown",
   "metadata": {},
   "source": [
    "### Setting Your Goal"
   ]
  },
  {
   "cell_type": "markdown",
   "metadata": {},
   "source": [
    "In the first phase, the organisation understands the project objectives and the business requirements. Often they will summarise them in documents. This is the __business understanding__ phase. This is not contrainted to business, any organisation or __you__ have a goal, and this goal is where it guides you to the road of data analytics. "
   ]
  },
  {
   "cell_type": "markdown",
   "metadata": {},
   "source": [
    "__Exercise:__ Think about in your career, what is your objective? Think about how this object require data to help you. "
   ]
  },
  {
   "cell_type": "markdown",
   "metadata": {},
   "source": [
    "In data analytics, we try to find out what could be analysed from our business, or topic. So we need to set goals as well. To guide us on forming our goals. One way is to set the __key performance indicators__ (KPI). They are measurable values that can describe your objectives. Remember they have to be, \n",
    "* Specific\n",
    "* Measurable\n",
    "* Achievable\n",
    "* Relevant\n",
    "* Timely(-manner)\n",
    "\n",
    "Think about a typical business, their aims is to maximise profit, so KPIs are anything that can maximise their profit. For example, \n",
    "* Number of customers visiting\n",
    "* Obtain higher ratings from customers\n",
    "* Number of referrals\n",
    "\n",
    "When it comes to politics, then their KPIs could be\n",
    "* Number of votes to paries\n",
    "* Number of passed motions proposed by them\n",
    "* Number of political donations\n",
    "\n",
    "to measure the success of the politcians. "
   ]
  },
  {
   "cell_type": "markdown",
   "metadata": {},
   "source": [
    "__Exercise:__ What could be KPIs of analysing the success of a student?\n",
    "\n",
    "Remember, what is the objective/ purpose of a student?"
   ]
  },
  {
   "cell_type": "markdown",
   "metadata": {},
   "source": [
    "__Exercise:__ What could be KPIs of predicting a pandemic?\n",
    "\n",
    "Again, think about the objective/ purpose first."
   ]
  },
  {
   "cell_type": "markdown",
   "metadata": {},
   "source": [
    "### Data Science Team"
   ]
  },
  {
   "cell_type": "markdown",
   "metadata": {},
   "source": [
    "Data analysts or scientists is the powerhorse of a data analytics project. However, they are not the only people in the team. In making sure your data analysis is correct and relevant, you need the subject matter expert alongside with you. \n",
    "\n",
    "* In health sciences, data scientists collaborate with doctors and they fact check the accuracy of the results. For example, they look into one of the patient's X-ray image and see if it is classified correctly with the disease. \n",
    "* In finances, legal or government sectors. They may need staffs that have worked for many years that understands the legal matter/ customers well to advise you if your choice of variables are correct. "
   ]
  },
  {
   "cell_type": "markdown",
   "metadata": {},
   "source": [
    "## Data Understanding"
   ]
  },
  {
   "cell_type": "markdown",
   "metadata": {},
   "source": [
    "To start the data science project, we need to start with the relevant data sources. This is part of the __data understanding__ process. This involves the following steps: \n",
    "* Sourcing data\n",
    "* Combining data\n",
    "* Exploratory data analysis (EDA)"
   ]
  },
  {
   "cell_type": "markdown",
   "metadata": {},
   "source": [
    "Before that, let us briefly understanding the basics of data. Data is our ingredients of our data analysis. There are many types of data, such as:\n",
    "* __Nominal__ e.g. gender, they are labels of objects/ people. \n",
    "* __Ordinal__ e.g. age\n",
    "* __Interval__ e.g. blood pressure, they do not have meaningful reference points\n",
    "* __Ratio__ e.g. weight"
   ]
  },
  {
   "cell_type": "markdown",
   "metadata": {
    "solution2": "hidden",
    "solution2_first": true
   },
   "source": [
    "__Exercise:__ From above, what is the data type of number of customers visiting?"
   ]
  },
  {
   "cell_type": "markdown",
   "metadata": {
    "solution2": "hidden"
   },
   "source": [
    "__Solution:__ Ordinal. Where more customer has a meaning about the success of business. "
   ]
  },
  {
   "cell_type": "markdown",
   "metadata": {},
   "source": [
    "Based on what data we have, we can get indication on what the analysis might be. For example, \n",
    "\n",
    "* How much or how many? (Regression)\n",
    "* Which category? (Classification)\n",
    "* Which data are similar? (Clustering)\n",
    "\n",
    "The methods in brackets are machine learning methods and they will be introduced in Weeks 9 and 10."
   ]
  },
  {
   "cell_type": "markdown",
   "metadata": {},
   "source": [
    "### Sourcing Data from Twitter"
   ]
  },
  {
   "cell_type": "markdown",
   "metadata": {},
   "source": [
    "Twitter is a popular social media site where users can express themselves within some text length. It attracts a lot of attention from researchers to understand how opinion forms on Twitter. To convenient people understand what is inside the social network, Twitter offers an API that allows us to obtain the information in their server. \n",
    "\n",
    "API is the gateway to their servers. This means we need to obtain a key to get access. This is called the __public-key cryptography__. Which means we use the public key to get access into Twitter's server, and Twitter has a private key to encrypt their message back to us. This is only important when we are using the pair of keys as in below. "
   ]
  },
  {
   "cell_type": "markdown",
   "metadata": {},
   "source": [
    "So before to start anything, we should have a Twitter developer account beforehand. This can be obtained from [https://developer.twitter.com/](https://developer.twitter.com/). \n",
    "\n",
    "After that, you will need to obtain your __consumer keys__ and __access tokens__ (i.e. the public keys) on the developer portal. There are many guides available online, for example\n",
    "* [https://towardsdatascience.com/how-to-access-twitters-api-using-tweepy-5a13a206683b](https://towardsdatascience.com/how-to-access-twitters-api-using-tweepy-5a13a206683b)\n",
    "* [https://realpython.com/twitter-bot-python-tweepy/#creating-twitter-api-authentication-credentials](https://realpython.com/twitter-bot-python-tweepy/#creating-twitter-api-authentication-credentials)\n",
    "\n",
    "Once you have created an application, you will need Twitter officially approve you. This can take from hours to few days. "
   ]
  },
  {
   "cell_type": "markdown",
   "metadata": {},
   "source": [
    "To fetch tweets from Twitter, we get help from the `tweepy` package. The following code is would fetch the relevant tweets to the keyword `'pokemon'` (last line of the snippet). \n",
    "```python\n",
    "import tweepy\n",
    "\n",
    "APP_KEY = '***'\n",
    "APP_SECRET = '***'\n",
    "\n",
    "auth = tweepy.OAuthHandler('***', '***')\n",
    "auth.set_access_token(APP_KEY, APP_SECRET)\n",
    "\n",
    "api = tweepy.API(auth)\n",
    "\n",
    "tweets = api.search(q = \"pokemon\", count = 100, result_type = \"recent\")\n",
    "```\n",
    "As you can see, we use 2 pairs of keys. The `APP_KEY` represents our access to the server, and then we access the session token which allows us to stay for the time being.  "
   ]
  },
  {
   "cell_type": "markdown",
   "metadata": {},
   "source": [
    "`tweepy` provides a lot of methods that could enable programmers to obtain relevant tweets. For example the `search()` method returns relevant tweets from a keyword. `search_users()` returns relevant users from a keyword. \n",
    "\n",
    "More of these methods, and how to use them, can be find in [https://tweepy.readthedocs.io/en/latest/api.html](https://tweepy.readthedocs.io/en/latest/api.html). "
   ]
  },
  {
   "cell_type": "markdown",
   "metadata": {},
   "source": [
    "__Exercise:__ What does each line of the code mean? If possible, copy the snippet and comment out each lines. "
   ]
  },
  {
   "cell_type": "markdown",
   "metadata": {},
   "source": [
    "In today, we are going to fetch some of the tweets and write them in json format. Json is a way to store complex data in text files and the program can recognise them afterwards. In python there is a native package called `json`, so we will call them at the start. \n",
    "```python\n",
    "import json\n",
    "```\n",
    "To convert the information to json, we write \n",
    "```python\n",
    "tweet_json = json.dump(tweets._json)\n",
    "```\n",
    "Thus we will need to store the data, this means we can write \n",
    "```python\n",
    "with open('tweets.json', 'w') as json_file:\n",
    "    json.dump(tweet_json, json_file)\n",
    "```\n",
    "and the tweet data is now stored in `tweets.json` in your current folder location. \n",
    "\n",
    "To read back the json file, we can use the following snippet: \n",
    "```python\n",
    "with open('data.txt') as json_file:\n",
    "    data = json.load(json_file)\n",
    "```"
   ]
  },
  {
   "cell_type": "markdown",
   "metadata": {
    "solution": "hidden",
    "solution2": "hidden",
    "solution2_first": true,
    "solution_first": true
   },
   "source": [
    "__Exercise:__ Write a code that will return tweets with the keyword `'Apple'`. Store them into the file called `apple_tweets.txt'. "
   ]
  },
  {
   "cell_type": "code",
   "execution_count": null,
   "metadata": {
    "collapsed": true,
    "jupyter": {
     "outputs_hidden": true
    },
    "solution": "hidden",
    "solution2": "hidden"
   },
   "outputs": [],
   "source": [
    "# Solution\n",
    "import tweepy\n",
    "\n",
    "APP_KEY = '***'\n",
    "APP_SECRET = '***'\n",
    "\n",
    "auth = tweepy.OAuthHandler('***', '***')\n",
    "auth.set_access_token(APP_KEY, APP_SECRET)\n",
    "\n",
    "api = tweepy.API(auth)\n",
    "\n",
    "tweets = api.search(q = \"Apple\", count = 100, result_type = \"recent\")\n",
    "\n",
    "with open('apple_tweets.txt', 'w') as json_file:\n",
    "    json.dump(tweets, json_file)"
   ]
  },
  {
   "cell_type": "code",
   "execution_count": null,
   "metadata": {
    "collapsed": true,
    "jupyter": {
     "outputs_hidden": true
    }
   },
   "outputs": [],
   "source": [
    "# Your code below\n"
   ]
  },
  {
   "cell_type": "markdown",
   "metadata": {},
   "source": [
    "As an extension, you can use a Twitter scraper to do more complex scraping. Given that one method call can fetch up to 1500 tweets, you can write a code to find tweets within a date range, and return more than 3200 at once. There are many of these online and often the authors have submitted theirs on thei Github repository. "
   ]
  },
  {
   "cell_type": "markdown",
   "metadata": {},
   "source": [
    "### Web Scraping"
   ]
  },
  {
   "cell_type": "markdown",
   "metadata": {},
   "source": [
    "Internet contains a wealth of resources, so we can use python to extract information from the webpage. To scrape from the internet, we follow the following steps: \n",
    "1. Find the page that you want to scrape\n",
    "2. Inspect the page\n",
    "3. Write the code\n",
    "4. Run the code and extract the data\n",
    "5. Store the data in the required format "
   ]
  },
  {
   "cell_type": "markdown",
   "metadata": {},
   "source": [
    "In this exercise, we will try to scrape from news website. Our example would be from [https://www.nbcnews.com/better/health/what-headline-stress-disorder-do-you-have-it-ncna830141](https://www.nbcnews.com/better/health/what-headline-stress-disorder-do-you-have-it-ncna830141). Which we wish to obtain the article itself. \n",
    "\n",
    "This means we should have a look at the page itself, by means of clicking in the link and inspect them. You should see the similar screenshot as below. "
   ]
  },
  {
   "cell_type": "markdown",
   "metadata": {},
   "source": [
    "<img src=\"fig/Capture01.PNG\" width=\"620\"/>"
   ]
  },
  {
   "cell_type": "markdown",
   "metadata": {},
   "source": [
    "You will see the webapage and it has not only just the news article itself. In well structured websites, there is a top bar to navigate to other pages of the news site. Often there will be some advertisements at the side of the article. If you scroll down, you will see the footer which shows the side information of the website as well. The article does not span the whole space in the middle of the page. There are spaces to put the author's information and the date of publish. "
   ]
  },
  {
   "cell_type": "markdown",
   "metadata": {},
   "source": [
    "__Exercise:__ Identify the page elements in the link. "
   ]
  },
  {
   "cell_type": "markdown",
   "metadata": {},
   "source": [
    "Our first step is to fetch the webpage onto our computer. In this way, we could potentially extract the information from the page. In this exercise, we will look at a package called `requests`. The following is the snippet of code to extract the website and export the information. \n",
    "\n",
    "```python\n",
    "import requests\n",
    "\n",
    "htmlsource = requests.get('https://www.nbcnews.com/better/health/what-headline-stress-disorder-do-you-have-it-ncna830141').text\n",
    "tree = html.fromstring(htmlsource)\n",
    "\n",
    "with open('file/stress_news.html', mode = 'w') as fo:\n",
    "    fo.write(htmlsource)\n",
    "\n",
    "fo.close()\n",
    "```"
   ]
  },
  {
   "cell_type": "markdown",
   "metadata": {},
   "source": [
    "To extract the contents, there is a method to do so. Webpages are composed under a markup language called HTML. Each semantic contents are wrapped by a tag. For example, to make text bold, we can write `<b>I am bold.</b>` wich shows __I am bold.__ The bold find starts at the `<b>` tag and ends at `</b>` tag. A typical webpage should show \n",
    "```html\n",
    "<!DOCTYPE HTML PUBLIC \"-//W3C//DTD HTML 4.01//EN\"\n",
    "   \"http://www.w3.org/TR/html4/strict.dtd\">\n",
    "<html>\n",
    "   <head>\n",
    "      <title>My first HTML document</title>\n",
    "   </head>\n",
    "   <body>\n",
    "      <p>Hello world!</p>\n",
    "   </body>\n",
    "</html>\n",
    "```\n",
    "Let us look at the tags in more detail: \n",
    "* The first line tells the computer that this is a webpage. \n",
    "* The `<head>` tag shows the meta information of the webpage. In this case, we define the title of the page under the `<head>` tag. \n",
    "* Anything showed in the `<body>` tag will appear on the screen (of your browser). In this case, there is a sentence 'Hello world!' is written and it is wrapped by the paragraph `<p>` tag. \n",
    "* Finally, every tags should wrap up by a end tag that starts with a `/`. For example, a paragrapha ends with a `</p>` tag. "
   ]
  },
  {
   "cell_type": "markdown",
   "metadata": {},
   "source": [
    "We cannot assume that our contents are spans within the whole `<body>` tag, so we will inspect it. To do so, at the page opened press __F12__. You should see a portal appeared left to your page with the HTML markups showed. \n",
    "\n",
    "Then scroll to the HTML markups and scroll to the place where the article is highlighting. This is not the place contains only the article, but there is the smallest tag contained the article. So click on the triangle beside the tag, and scroll to where the article is highlighted again. Repeat this process until you are able to see only the article contents are highlighted. "
   ]
  },
  {
   "cell_type": "markdown",
   "metadata": {
    "solution": "hidden",
    "solution2": "hidden",
    "solution2_first": true,
    "solution_first": true
   },
   "source": [
    "__Exercise:__ What is the HTML tag that contains the whole article? You may want to include all the information inside the tag. "
   ]
  },
  {
   "cell_type": "markdown",
   "metadata": {
    "solution": "hidden",
    "solution2": "hidden"
   },
   "source": [
    "__Solution:__\n",
    "\n",
    "It is a `<div>` tag and the whole tag reads \n",
    "```html\n",
    "<div class=\"article-body__content\">\n",
    "```"
   ]
  },
  {
   "cell_type": "markdown",
   "metadata": {},
   "source": [
    "Once you read the tag that contains all the information of the article itself, you should see it contains several `<p>` tags, these mean the paragraphs and you don't need to care about them. \n",
    "\n",
    "To extract the article text, the HTML tag we have is important. If you do not have the answer, just use the solution from above exercise. We will extract the article using this information. Given we have the destination tag, how could we tell the computer where it is? We use a concept called __XPath__ (XML Path Language). It shows the address from the top most level to the tag we after. \n",
    "\n",
    "To get the XPath of the article, right click on the tag we after and click copy the 'XPath' or the 'Full XPath'. "
   ]
  },
  {
   "cell_type": "markdown",
   "metadata": {},
   "source": [
    "<img src=\"fig/Capture02.png\" width=\"480\"/>"
   ]
  },
  {
   "cell_type": "markdown",
   "metadata": {},
   "source": [
    "For example, the full XPath that stores the article itself is \n",
    "`/html/body/div[2]/div/div[5]/div/div/div/article/div/div[2]/div[1]/div[2]`, while the XPath is `//*[@id=\"content\"]/div/div[5]/div/div/div/article/div/div[2]/div[1]/div[2]`. We can see that `html` appears at the start of the XPath, then the `body`. Which appears to be the nested structure of the html tags. \n",
    "\n",
    "Furthermore, \n",
    "* `/` seperates the different levels. For example, `/html/body/` means the top layer is the `<html>` tag and the `<body>` is nested.\n",
    "* `[]` indicates which branch of the tree is chosen. For instance, if there are 2 `<div>` tags after `<body>`, `div[2]` would select the second (i.e. last) one.\n",
    "* `//` means 'arbitrary depth'. For example, `/html/body//p` means any paragraphs `<p>` under `<body`. Trilling (2019) adivses to 'start your XPATH with `//` to avoid make it shorter and avoid being too specific'.\n",
    "* `*` means 'everything'. For instance, `p[*]` means all paragraphs. \n",
    "* `//*` means everything in the next layer. \n",
    "* `[@attribute=\"whatever\"]` lets you select only those tags that contain a specific attribute. Common attributes could be `id`, `class`. Using above exercise as an example, if the `<div>` tag reads `<div class=\"reviews-single text\">`. The XPath could write \n",
    "`//div[@class=\"article-body__content\"]`. \n",
    "* `.` (a dot) means relative location path from the tag we after. "
   ]
  },
  {
   "cell_type": "markdown",
   "metadata": {},
   "source": [
    "This means we can fetch (or _parse_) the article by specifying the XPath. Which is done by the following code snippet. \n",
    "```python\n",
    "from lxml import html\n",
    "\n",
    "article_content = tree.xpath('//*[@id=\"content\"]/div/div[5]/div/div/div/article/div/div[2]/div[1]/div[2]')\n",
    "\n",
    "article_content_text = [r.text.strip() for r in article_content]\n",
    "print(article_content_text)\n",
    "```"
   ]
  },
  {
   "cell_type": "markdown",
   "metadata": {},
   "source": [
    "__Exercise:__ Use the snippets above to print out the texts of the article. If possible, write the texts into a `.txt` file. "
   ]
  },
  {
   "cell_type": "markdown",
   "metadata": {},
   "source": [
    "__Exercise:__ Use the snippets above to extract the positive words in the Havard IV-4 dictionary. After that write the list of words into a `.txt` file. \n",
    "\n",
    "This is the link: `http://www.wjh.harvard.edu/~inquirer/Pstv.html`"
   ]
  },
  {
   "cell_type": "markdown",
   "metadata": {},
   "source": [
    "## EDA"
   ]
  },
  {
   "cell_type": "markdown",
   "metadata": {},
   "source": [
    "_Some of contents come from https://github.com/info-370/eda._\n",
    "\n",
    "Exploratory data analysis (__EDA__) is the process to understand the datasets sourced. This process starts by summarising the data structures and then visualise a selected features to quickly understand univariate distributions and relationships between variables. Initial EDA questions ask basic questions, including:\n",
    "\n",
    "* How large is the dataset (rows, columns)?\n",
    "* What are the variables present in the dataset?\n",
    "* What is the data type of each variable?\n",
    "\n",
    "At the end, the goal of EDA is to find \n",
    "* statistical summary of individual columns. \n",
    "* the relationship between columns. \n",
    "* check if any missing data. \n",
    "\n",
    "In this week, we will start some work on EDA with a marks dataset and a text dataset. This will use either statistical analysis and/ or visualisations. You can source your own dataset after this class. "
   ]
  },
  {
   "cell_type": "markdown",
   "metadata": {},
   "source": [
    "When using Jupyter to analyse data, we should maintain our habit on grouping each functions into each cell. For example, a conventional layout should include (in order): \n",
    "1. Packages/ libraries needed to be imported\n",
    "2. Custom functions you wish to use\n",
    "3. Import data\n",
    "4. EDA (and data cleaning, may separate)\n",
    "5. Analysis\n",
    "6. Report on your findings\n",
    "\n",
    "In this way it is organised, and also it is intuitive to later users to compile the early cells first so that there will be no not found errors. In the following, we have a dedicated cell for storing the packages. When we need to import a library, we will add into the next cell and rerun it. "
   ]
  },
  {
   "cell_type": "code",
   "execution_count": null,
   "metadata": {
    "collapsed": true,
    "jupyter": {
     "outputs_hidden": true
    }
   },
   "outputs": [],
   "source": [
    "# Import all needed packages in here\n",
    "import numpy as np\n",
    "import pandas as pd\n",
    "\n",
    "\n"
   ]
  },
  {
   "cell_type": "markdown",
   "metadata": {},
   "source": [
    "In this exercise, we will use a sample marks data set called `marks.csv`. It is stored in the `/files` folder. It is generated dataset where it simulates the breakdown of marks in a course. There are several columns: \n",
    "* Unikey is a unique identifier of each students. \n",
    "* Final exam marks (by question, worth 50%): \n",
    "    * `'Q1'` is out of 20.\n",
    "    * `'Q2'` is out of 20.\n",
    "    * `'Q3'` is out of 15.\n",
    "    * `'Q4'` is out of 20.\n",
    "    * `'Q5'` is out of 15.\n",
    "    * `'Q6'` is out of 10.\n",
    "* `'Quizes'` worth 10% of the course. \n",
    "* `'Lab'` worth 10% of the course. \n",
    "* `'Asgn 01'` worth 10% of the course. \n",
    "* `'Asgn 02'` worth 20% of the course. "
   ]
  },
  {
   "cell_type": "markdown",
   "metadata": {
    "solution2": "hidden",
    "solution2_first": true
   },
   "source": [
    "__Exericse:__ Read the `marks.csv` file and import the data as a `pandas` dataframe. "
   ]
  },
  {
   "cell_type": "code",
   "execution_count": null,
   "metadata": {
    "solution2": "hidden"
   },
   "outputs": [],
   "source": [
    "# Your code below\n",
    "df = pd.read_csv('???')"
   ]
  },
  {
   "cell_type": "markdown",
   "metadata": {},
   "source": [
    "Sometimes the input `.csv` file is encoded by different systems. For example, if the `.csv` file is written in Chinese or other languages, it may use unknown encoding systems to us. Sometimes, we need to add an option to the `.read_csv()` to let it read the Unicode. For example, \n",
    "\n",
    "```python\n",
    "df = pd.read_csv('???', encoding='utf8')\n",
    "```\n",
    "\n",
    "If you see the encoding error and you cannot figure out which encoding system it uses. Run the following code and it will help you. Then use the code snippet above. "
   ]
  },
  {
   "cell_type": "code",
   "execution_count": null,
   "metadata": {
    "collapsed": true,
    "jupyter": {
     "outputs_hidden": true
    }
   },
   "outputs": [],
   "source": [
    "# This code checks what encoding the csv file has. \n",
    "with open('top50.csv') as f:\n",
    "    print(f)"
   ]
  },
  {
   "cell_type": "markdown",
   "metadata": {},
   "source": [
    "In this exercise, we don't need to worry about the encoding. "
   ]
  },
  {
   "cell_type": "markdown",
   "metadata": {},
   "source": [
    "So let us start exploring the data set. This means we need to print out the features inside the dataset. In the following, we are using the methods from `pandas` since last week. Which would be familiar to you. "
   ]
  },
  {
   "cell_type": "markdown",
   "metadata": {
    "solution": "hidden",
    "solution2": "hidden",
    "solution2_first": true,
    "solution_first": true
   },
   "source": [
    "__Exercise:__ How can we see the first __10 records__ of the dataset?"
   ]
  },
  {
   "cell_type": "code",
   "execution_count": null,
   "metadata": {
    "tags": []
   },
   "outputs": [],
   "source": [
    "# Your code below\n"
   ]
  },
  {
   "cell_type": "code",
   "execution_count": 4,
   "metadata": {
    "scrolled": true,
    "solution": "hidden",
    "solution2": "hidden"
   },
   "outputs": [
    {
     "name": "stdout",
     "output_type": "stream",
     "text": [
      "     unikey    Q1    Q2    Q3    Q4    Q5    Q6  Quizes     Lab Asgn 01  \\\n",
      "0  pmpk3028   6.0   8.5   2.5   3.0   7.0   5.0   3.47%   3.27%  84.27%   \n",
      "1  iyqw3940  16.5  18.5   1.0  14.0  14.5   8.0  14.08%  91.72%  56.11%   \n",
      "2  mjll6065  11.5  11.5   0.5  14.5  11.0   0.0  84.66%   75.5%   48.3%   \n",
      "3  rtgm8060   6.0  14.5   5.0   8.0   7.0   0.0  59.99%   52.2%  19.31%   \n",
      "4  xfxd8275  12.0   4.0   1.5   3.5  14.5   6.0  23.46%  78.64%   2.32%   \n",
      "5  usan5260   1.5  18.0   4.5   7.5   8.0   2.5  11.53%  33.07%  53.54%   \n",
      "6  exgv5076   5.5   7.0   2.0  13.5  10.0   9.5  21.71%   1.31%   56.8%   \n",
      "7  dprj4333   1.5  20.5  10.0  13.0   1.5  10.0  76.35%  41.73%  27.52%   \n",
      "8  vera2617   4.5  15.0  11.0   1.0   5.5  10.5   69.2%  13.23%  30.51%   \n",
      "9  fuea3500   4.5  13.5   5.0   1.5   4.5   6.5  74.32%  96.75%  87.45%   \n",
      "\n",
      "  Asgn 02  \n",
      "0  50.17%  \n",
      "1   8.78%  \n",
      "2  98.73%  \n",
      "3  90.93%  \n",
      "4  91.49%  \n",
      "5  49.17%  \n",
      "6  89.46%  \n",
      "7  84.06%  \n",
      "8  30.62%  \n",
      "9  13.52%  \n"
     ]
    }
   ],
   "source": [
    "# Solution\n",
    "print(df.head(10))"
   ]
  },
  {
   "cell_type": "markdown",
   "metadata": {
    "solution": "hidden",
    "solution2": "hidden",
    "solution2_first": true,
    "solution_first": true
   },
   "source": [
    "__Exercise:__ How can we know what columns are in the data set?"
   ]
  },
  {
   "cell_type": "code",
   "execution_count": null,
   "metadata": {
    "collapsed": true,
    "jupyter": {
     "outputs_hidden": true
    }
   },
   "outputs": [],
   "source": [
    "# Your code below\n"
   ]
  },
  {
   "cell_type": "code",
   "execution_count": null,
   "metadata": {
    "collapsed": true,
    "jupyter": {
     "outputs_hidden": true
    },
    "solution": "hidden",
    "solution2": "hidden"
   },
   "outputs": [],
   "source": [
    "# Solution\n",
    "print(df.columns)"
   ]
  },
  {
   "cell_type": "markdown",
   "metadata": {
    "solution": "hidden",
    "solution2": "hidden",
    "solution2_first": true,
    "solution_first": true
   },
   "source": [
    "__Exercise:__ How can we find out how many rows and columns we have?"
   ]
  },
  {
   "cell_type": "code",
   "execution_count": null,
   "metadata": {
    "collapsed": true,
    "jupyter": {
     "outputs_hidden": true
    }
   },
   "outputs": [],
   "source": [
    "# Your code below"
   ]
  },
  {
   "cell_type": "code",
   "execution_count": 8,
   "metadata": {
    "solution": "hidden",
    "solution2": "hidden"
   },
   "outputs": [
    {
     "name": "stdout",
     "output_type": "stream",
     "text": [
      "(250, 11)\n"
     ]
    }
   ],
   "source": [
    "# Solution\n",
    "print(df.shape)"
   ]
  },
  {
   "cell_type": "markdown",
   "metadata": {
    "solution": "hidden",
    "solution2": "hidden",
    "solution2_first": true,
    "solution_first": true
   },
   "source": [
    "__Exericse:__ Given that we know how to find how many rows and columns we have in teh dataset? I would like to see the results printed as `'There are {} records and {} columns in this dataset.'` where the brackets are substituted by the number of rows and columns in the dataset. \n",
    "\n",
    "__Hint:__ Use the code above and think about how come the returned value able to fit in 2 values. What is the data type we obtained? So how can we extract the individual values? "
   ]
  },
  {
   "cell_type": "code",
   "execution_count": null,
   "metadata": {
    "collapsed": true,
    "jupyter": {
     "outputs_hidden": true
    }
   },
   "outputs": [],
   "source": [
    "# Your code below\n"
   ]
  },
  {
   "cell_type": "code",
   "execution_count": 5,
   "metadata": {
    "solution": "hidden",
    "solution2": "hidden"
   },
   "outputs": [
    {
     "name": "stdout",
     "output_type": "stream",
     "text": [
      "There are 250 records and 11 columns in this dataset.\n"
     ]
    }
   ],
   "source": [
    "# Solution\n",
    "print('There are {} records and {} columns in this dataset.'.format(df.shape[0],df.shape[1]))"
   ]
  },
  {
   "cell_type": "markdown",
   "metadata": {
    "solution": "hidden",
    "solution2": "hidden",
    "solution2_first": true,
    "solution_first": true
   },
   "source": [
    "__Exercise:__ How can we find out the data types under each column? Are they all the same under each columns?"
   ]
  },
  {
   "cell_type": "code",
   "execution_count": null,
   "metadata": {
    "tags": []
   },
   "outputs": [],
   "source": [
    "# Your code below\n"
   ]
  },
  {
   "cell_type": "code",
   "execution_count": null,
   "metadata": {
    "solution": "hidden",
    "solution2": "hidden",
    "tags": []
   },
   "outputs": [],
   "source": [
    "# Solution\n",
    "print(df.dtypes)"
   ]
  },
  {
   "cell_type": "markdown",
   "metadata": {},
   "source": [
    "At the end of your EDA, we will start to get some statistical information from the dataset. To do so, we rely on the native `.describe()` method from `pandas`. Run the code below to see how the amrks distribution would be. "
   ]
  },
  {
   "cell_type": "code",
   "execution_count": null,
   "metadata": {},
   "outputs": [],
   "source": [
    "# Run this code\n",
    "df.describe()"
   ]
  },
  {
   "cell_type": "markdown",
   "metadata": {},
   "source": [
    "So let us start with the results row by row. \n",
    "* The first column tells us how many (non null) records do we have in this dataset. Given that all counts are the same, we can say there are no missing (null) values. However, we can check that from the `.shape()` method previously. \n",
    "* The next 2 rows represents the mean and standard deviation of each questions. It would be meaningful to interpret these results given we have the total marks of each question. \n",
    "* The next rows represent their quantiles. That is, for example, how does the lowest 25% perform? We can have a percetion on where the cohort perform. Are they doing good in this question, or not?\n",
    "\n",
    "However, if we look at the last row. There is something wrong in here. If you look carefully, you should see that the maximum marks are 0.5 more than what supposed to be. We need to find out how many people have this mark and then rectify the situation. This will be done in the next section. "
   ]
  },
  {
   "cell_type": "markdown",
   "metadata": {},
   "source": [
    "## EDA: Visualising Data"
   ]
  },
  {
   "cell_type": "markdown",
   "metadata": {},
   "source": [
    "In EDA you will need to show your results. It can be either summarising the statistics, or visualisaing data. In this wee, we will look into few common visualisations: \n",
    "* Histogram\n",
    "* Scatter plots\n",
    "* Pairwise plots"
   ]
  },
  {
   "cell_type": "markdown",
   "metadata": {},
   "source": [
    "In visualising data we use `pyplot` from `matplotlib` to show the visualisations. In this course we may use other packages such as `seaborn`. Often the `matplotlib` is used as a wrapper of the extra functionalities from these libraries and we will use the following format to visualise data \n",
    "```python \n",
    "import matplotlib.pyplot as plt \n",
    "import seanborn as sns \n",
    "\n",
    "plt.figure()  # Creating the figure objects, the visualisations are inside \n",
    "'''\n",
    "Any visualisations e.g. plt.plot() or plt.hist() in here \n",
    "'''\n",
    "plt.show() # Otherwise your visualisation will not show\n",
    "```\n",
    "\n",
    "To recap, the above code has $3$ steps: \n",
    "1. Use `plt.figure()`\n",
    "2. Insert any visualisation methods after this \n",
    "3. Use `plt.show()`"
   ]
  },
  {
   "cell_type": "markdown",
   "metadata": {},
   "source": [
    "The first one to here is histogram, which is a type of visualisation where data are represented as bars. Often histogram are used to represent the counts of unique data values or its frequency (or probability). The following shows what this means. "
   ]
  },
  {
   "cell_type": "code",
   "execution_count": 2,
   "metadata": {},
   "outputs": [
    {
     "data": {
      "image/png": "[encoded data removed]",
      "text/plain": [
       "<Figure size 432x288 with 1 Axes>"
      ]
     },
     "metadata": {
      "needs_background": "light"
     },
     "output_type": "display_data"
    }
   ],
   "source": [
    "import matplotlib.pyplot as plt \n",
    "\n",
    "hist_data = [1,2,3,4,5,5,6,7,8,9]\n",
    "\n",
    "plt.figure()\n",
    "plt.hist(hist_data)\n",
    "plt.show()"
   ]
  },
  {
   "cell_type": "markdown",
   "metadata": {},
   "source": [
    "As you can see, $5$ repeated twice and therefore it shows the bar height taller than others. "
   ]
  },
  {
   "cell_type": "markdown",
   "metadata": {},
   "source": [
    "You can see that the `hist()` method from `pyplot` has an optional argument which allows to show the density instead. This is done by using the `density` argument. "
   ]
  },
  {
   "cell_type": "code",
   "execution_count": 3,
   "metadata": {},
   "outputs": [
    {
     "data": {
      "image/png": "[encoded data removed]",
      "text/plain": [
       "<Figure size 432x288 with 1 Axes>"
      ]
     },
     "metadata": {
      "needs_background": "light"
     },
     "output_type": "display_data"
    }
   ],
   "source": [
    "import matplotlib.pyplot as plt \n",
    "\n",
    "hist_data = [1,2,3,4,5,5,6,7,8,9]\n",
    "\n",
    "plt.figure()\n",
    "plt.hist(hist_data, density=True)\n",
    "plt.show()"
   ]
  },
  {
   "cell_type": "markdown",
   "metadata": {},
   "source": [
    "As you can see that the heights are the same as before, but look carefully at the $y$-axis and you can see that they are less than 1. However, you should found that the frequency of $5$'s should be $0.2$ and others should be $0.1$ instead. The reason why this happens is because the `density` argument changes the $y$ values so that the area of the histogram is $1$. We can use `histplot()` from `seanborn` to visualise the density instead. "
   ]
  },
  {
   "cell_type": "code",
   "execution_count": 3,
   "metadata": {},
   "outputs": [
    {
     "data": {
      "image/png": "[encoded data removed]",
      "text/plain": [
       "<Figure size 432x288 with 1 Axes>"
      ]
     },
     "metadata": {
      "needs_background": "light"
     },
     "output_type": "display_data"
    }
   ],
   "source": [
    "import matplotlib.pyplot as plt \n",
    "import seaborn as sns\n",
    "\n",
    "hist_data = [1,2,3,4,5,5,6,7,8,9]\n",
    "\n",
    "plt.figure()\n",
    "sns.histplot(hist_data, stat='probability', kde=True)\n",
    "plt.show()"
   ]
  },
  {
   "cell_type": "markdown",
   "metadata": {},
   "source": [
    "To get the correct probability values, we need to ensure that each data values belongs to each bar. This is set by the `bins` argument. Bin in statistics are the range of data values bunch together. For example, often we see age brackets and this is an example of statistical bins. "
   ]
  },
  {
   "cell_type": "code",
   "execution_count": 4,
   "metadata": {},
   "outputs": [
    {
     "data": {
      "image/png": "[encoded data removed]",
      "text/plain": [
       "<Figure size 432x288 with 1 Axes>"
      ]
     },
     "metadata": {
      "needs_background": "light"
     },
     "output_type": "display_data"
    }
   ],
   "source": [
    "import matplotlib.pyplot as plt \n",
    "import seaborn as sns\n",
    "\n",
    "hist_data = [1,2,3,4,5,5,6,7,8,9]\n",
    "\n",
    "plt.figure()\n",
    "sns.histplot(hist_data, bins=10, stat='probability', kde=True)\n",
    "plt.show()"
   ]
  },
  {
   "cell_type": "markdown",
   "metadata": {},
   "source": [
    "So now you can see that by setting more bins, the visualisation looks more detailed. "
   ]
  },
  {
   "cell_type": "markdown",
   "metadata": {},
   "source": [
    "The next type of plot is scatter plot, where data points are represented by dots. This time we use the `scatter()` method from `pyplot` to visualise them. Using the previous example, we have "
   ]
  },
  {
   "cell_type": "code",
   "execution_count": 8,
   "metadata": {},
   "outputs": [
    {
     "data": {
      "image/png": "[encoded data removed]",
      "text/plain": [
       "<Figure size 432x288 with 1 Axes>"
      ]
     },
     "metadata": {
      "needs_background": "light"
     },
     "output_type": "display_data"
    }
   ],
   "source": [
    "import numpy as np\n",
    "import matplotlib.pyplot as plt \n",
    "import seaborn as sns\n",
    "\n",
    "hist_data = [1,2,3,4,5,5,6,7,8,9]\n",
    "\n",
    "plt.figure()\n",
    "plt.scatter(np.arange(len(hist_data)), hist_data)\n",
    "plt.show()"
   ]
  },
  {
   "cell_type": "markdown",
   "metadata": {},
   "source": [
    "If you carefully inspect the code above, you can see the `hist_data` spans on the $y$-axis. The value of $x$-axis is not granted but you have to specify what each $x$ values would be. If in this occassion that the data represents order, then we can use `numpy` to generate a sequence of integer array as the $x$-axis values, using `np.arange()`. \n",
    "\n",
    "Usually when we know the $x$ values then they should be stored in a separate list or array from the $y$ data. "
   ]
  },
  {
   "cell_type": "code",
   "execution_count": 10,
   "metadata": {},
   "outputs": [
    {
     "data": {
      "image/png": "[encoded data removed]",
      "text/plain": [
       "<Figure size 432x288 with 1 Axes>"
      ]
     },
     "metadata": {
      "needs_background": "light"
     },
     "output_type": "display_data"
    }
   ],
   "source": [
    "import matplotlib.pyplot as plt \n",
    "import seaborn as sns\n",
    "\n",
    "scatter_x = [1,2,3,4,5,5,6,6,7,8,9]\n",
    "scatter_y = [0.1,0.5,0.3,0.2,0.7,0.9,0.4, 0.4,0.3,0.8,0.1]\n",
    "\n",
    "plt.figure()\n",
    "plt.scatter(scatter_x, scatter_y)\n",
    "plt.show()"
   ]
  },
  {
   "cell_type": "markdown",
   "metadata": {},
   "source": [
    "Now we have explored most of the data set. We will start find the correlations between different datasets. \n",
    "```python\n",
    "import seaborn as sns\n",
    "sns.set(style=\"ticks\")\n",
    "```"
   ]
  },
  {
   "cell_type": "code",
   "execution_count": null,
   "metadata": {
    "collapsed": true,
    "jupyter": {
     "outputs_hidden": true
    }
   },
   "outputs": [],
   "source": [
    "sns.pairplot(df)"
   ]
  },
  {
   "cell_type": "markdown",
   "metadata": {},
   "source": [
    "## Data Preparation: Data Cleaning and Other Tools"
   ]
  },
  {
   "cell_type": "markdown",
   "metadata": {},
   "source": [
    "*Some of contents come from https://github.com/DataScienceUB/introduction-datascience-python-book/blob/master/ch03_Descriptive_Statistics.ipynb.*\n",
    "\n",
    "After EDA has proceed, we will realise our dataset has many issues. This then involves data cleaning means to find out the outliers, for example \n",
    "* Which data points has value too big?\n",
    "* Which data points are ilogical?\n",
    "* How many missing data do we have?\n",
    "\n",
    "The most common steps are:\n",
    "\n",
    "* __Sample the data__ We will need to extract part of the dataset to train our model, often this has to be done where there is a large dataset. \n",
    "* __Impute missing data__ It is quite common that some of the input records are incomplete in the sense that certain fields are missing or have input error. In a typical tabular data format, we need to validate each record contains the same number of fields and each field contains the data type we expect. In case the record has some fields missing, we have the following choices:\n",
    "    * Remove the row if it is imposible to impute them. \n",
    "    * Infer the missing value based on the data from other records. Usually it could be either average, or the median (e.g. if skewed). \n",
    "* __Remove duplicate data__ Clerical errors may arise some rows to have duplicated information. We need to detect them and remove them. \n",
    "* __Inconsistent data__ By business knowledge, experts may inspect which datasets are incorrect. For example they may found incorrect data which values exaggerately large. This is undetectable by computer itself. \n",
    "* __Normalise numeric value__ Transform numeric data into a uniform range is good for training them into machine learning model.\n",
    "* __Reduce dimensionality__ We often want to capture the essense of the dataset, or sometimes it is because the machine learning method prefer simpler datasets. Commonly we can use Principal component analysis (PCA) to do this.\n",
    "* __Add derived features__ In some cases, we may need to compute additional attributes from existing attributes (e.g. linear transform temperature between scales, converting a geolocation to a postcodes). \n",
    "* __Binning numeric value (into categories)__ For numeric attributes, a common way to generalize it is to bin them into ranges, which can be either constant width (variable height/frequency) or variable width (constant height). \n",
    "* __Convert categorical variables into binary variables__ Some machine learning models only take binary input (or numeric input). We may convert the catagorical variables into multiple binary variables (i.e. true and false). Where each label in the catagorical variable is encoded as binary variables for each label.  \n",
    "* __Select, combine, aggregate data__ This includes select which columns are relevant for the model, combine the columns or aggregating multiple raw data records along some dimensions. Often this happens at the end of the EDA and before we finalise which columns should go to our machine learning model. This usually aims to boost our model quality. "
   ]
  },
  {
   "cell_type": "markdown",
   "metadata": {},
   "source": [
    "In the following, let us use some of the templates to clean the dataset."
   ]
  },
  {
   "cell_type": "markdown",
   "metadata": {},
   "source": [
    "From previously, we have found out that few people who had more marks than expected. To find out the how many people have this problem, we use the following code: "
   ]
  },
  {
   "cell_type": "code",
   "execution_count": null,
   "metadata": {
    "collapsed": true,
    "jupyter": {
     "outputs_hidden": true
    }
   },
   "outputs": [],
   "source": [
    "print('=== Excessive marks awarded ===')\n",
    "print('Q1:',df.loc[df.Q1 == 20.5, 'Q1'].count(), 'students')\n",
    "print('Q2:',df.loc[df.Q2 == 20.5, 'Q2'].count(), 'students')\n",
    "print('Q3:',df.loc[df.Q3 == 15.5, 'Q3'].count(), 'students')\n",
    "print('Q4:',df.loc[df.Q4 == 20.5, 'Q4'].count(), 'students')\n",
    "print('Q5:',df.loc[df.Q5 == 15.5, 'Q5'].count(), 'students')\n",
    "print('Q6:',df.loc[df.Q6 == 10.5, 'Q6'].count(), 'students')"
   ]
  },
  {
   "cell_type": "markdown",
   "metadata": {},
   "source": [
    "How would you able to diagnose the problem? Think about a cause of this incorrect data entry and write a code to see why. "
   ]
  },
  {
   "cell_type": "markdown",
   "metadata": {},
   "source": [
    "The reason why this happens is becuase when this dataset was generated, it was based on a code that aimed to generate `0.5` marks. However, this will cause the the problem above. "
   ]
  },
  {
   "cell_type": "code",
   "execution_count": null,
   "metadata": {
    "collapsed": true,
    "jupyter": {
     "outputs_hidden": true
    }
   },
   "outputs": [],
   "source": [
    "# Your code below\n"
   ]
  },
  {
   "cell_type": "markdown",
   "metadata": {},
   "source": [
    "We know that not many people have this problem, that is fine. For the purpose of this exercise, let us convert the marks into full marks. This is the code to do that. "
   ]
  },
  {
   "cell_type": "code",
   "execution_count": null,
   "metadata": {
    "collapsed": true,
    "jupyter": {
     "outputs_hidden": true
    }
   },
   "outputs": [],
   "source": [
    "df.loc[df.Q1 == 20.5, 'Q1'] = 20\n",
    "df.loc[df.Q2 == 20.5, 'Q2'] = 20\n",
    "df.loc[df.Q3 == 15.5, 'Q3'] = 15\n",
    "df.loc[df.Q4 == 20.5, 'Q4'] = 20\n",
    "df.loc[df.Q5 == 15.5, 'Q5'] = 15\n",
    "df.loc[df.Q6 == 10.5, 'Q6'] = 10"
   ]
  },
  {
   "cell_type": "markdown",
   "metadata": {},
   "source": [
    "Can you explain what does the code mean? You might need to see the `.loc` documentations in `pandas`. \n",
    "\n",
    "So now we have corrected the illogical data, and let us see how is the dataframe behaving. "
   ]
  },
  {
   "cell_type": "code",
   "execution_count": null,
   "metadata": {
    "collapsed": true,
    "jupyter": {
     "outputs_hidden": true
    }
   },
   "outputs": [],
   "source": [
    "# Run it\n",
    "print('=== Excessive marks awarded ===')\n",
    "print('Q1:',df.loc[df.Q1 == 20.5, 'Q1'].count(), 'students')\n",
    "print('Q2:',df.loc[df.Q2 == 20.5, 'Q2'].count(), 'students')\n",
    "print('Q3:',df.loc[df.Q3 == 15.5, 'Q3'].count(), 'students')\n",
    "print('Q4:',df.loc[df.Q4 == 20.5, 'Q4'].count(), 'students')\n",
    "print('Q5:',df.loc[df.Q5 == 15.5, 'Q5'].count(), 'students')\n",
    "print('Q6:',df.loc[df.Q6 == 10.5, 'Q6'].count(), 'students')"
   ]
  },
  {
   "cell_type": "markdown",
   "metadata": {},
   "source": [
    "There is another illogical data occured in the dataset. If you look carefully, the assessment marks (rightmost of the columns) are strings. These are stored as percentages and in strings. So we will need to carefully convert the pecentage into numbers by \n",
    "1. Strip the percentage sign away before we convert the data\n",
    "2. Convert the data points using `.astype()`. \n",
    "\n",
    "So let us convert the columns in below. "
   ]
  },
  {
   "cell_type": "code",
   "execution_count": null,
   "metadata": {
    "collapsed": true,
    "jupyter": {
     "outputs_hidden": true
    }
   },
   "outputs": [],
   "source": [
    "# Complete the code and run it\n",
    "df['Quizes Marks'] = df['Quizes'].str.slice(0,-1)\n",
    "df['Quizes Marks'] = df['Quizes Marks'].astype(float)\n"
   ]
  },
  {
   "cell_type": "markdown",
   "metadata": {},
   "source": [
    "### Missing Data"
   ]
  },
  {
   "cell_type": "markdown",
   "metadata": {},
   "source": [
    "In reality, data is rarely clean and homogeneous. In particular, realistic datasets will have some amount of data missing. We will discuss how to treat missing data, discuss how `pandas` chooses to represent it. There are 2 ways in Python to represent missing data, either: \n",
    "* `None`, or \n",
    "* `numpy.nan` (acronym for _Not a Number_). \n",
    "The first one we know it from native Python coding, while the second one comes from `numpy`. They are both equivalent when we use a dataframe. "
   ]
  },
  {
   "cell_type": "markdown",
   "metadata": {},
   "source": [
    "Let us do an exercise about missing values. In the following, we use the marks database and, there are few students' marks that were added laterly. Run the code below to get a glimse of the new dataset (_Remember viewing the dataset itself it an important part of EDA_). "
   ]
  },
  {
   "cell_type": "code",
   "execution_count": null,
   "metadata": {
    "tags": []
   },
   "outputs": [],
   "source": [
    "# Run it\n",
    "new_data = pd.DataFrame([['qbis1318',15,18,0.5,0,0,0,'92.50%','100.00%','100.00%',None],['bzhe1028',3,5,0,0,7,0,'32.18%','0.00%','100.00%',None],['azha9208',2,0,5,0,0,0,None,None,None,None],['jwaj9208',5,8,11.5,5,1,0,'50.55%','25.18%','100.00%',None],['tbai9208',5,8,11.5,5,1,0,'72.63%',None,'100.00%',None]], columns=df.columns) \n",
    "print(new_data)"
   ]
  },
  {
   "cell_type": "markdown",
   "metadata": {},
   "source": [
    "The missing data points occured because these students have few issues with administration. For the purpose of this exercise, we just work on the missing value through means of data analysis. Now let us add the dataset into the original one. "
   ]
  },
  {
   "cell_type": "code",
   "execution_count": null,
   "metadata": {
    "tags": []
   },
   "outputs": [],
   "source": [
    "df = pd.concat([df, new_data], ignore_index=True)\n",
    "print(df.head(15))"
   ]
  },
  {
   "cell_type": "markdown",
   "metadata": {},
   "source": [
    "The first thing we should do is to detect how many missing values we have. In `pandas`, we have a method called `.isnull()`. Either one will return a Boolean mask over the data. For example, \n",
    "```python \n",
    "df2 = pd.DataFrame([[0.5,0,2,Null]])\n",
    "df2.isnull()\n",
    "```\n",
    "will return \n",
    "\n",
    "```\n",
    "0    False\n",
    "1    False\n",
    "2    False\n",
    "3    True\n",
    "dtype: bool\n",
    "```\n",
    "In the following, the code for inspecting how many null values are partially prepared. It is to count how many null values under each column. Think about what each method means and how they are applied in here. Complete the cell below to inspect all columns. "
   ]
  },
  {
   "cell_type": "code",
   "execution_count": null,
   "metadata": {
    "tags": []
   },
   "outputs": [],
   "source": [
    "print('=== Null values ===')\n",
    "print(df['unikey'].isnull().sum())\n",
    "print(df['Q1'].isnull().sum())\n",
    "print(df['Q2'].isnull().sum())\n",
    "print(df['Q3'].isnull().sum())\n",
    "print(df['Q4'].isnull().sum())\n",
    "print(df['Q5'].isnull().sum())\n",
    "print(df['Quizes'].isnull().sum())\n",
    "# Continue the code below\n"
   ]
  },
  {
   "cell_type": "markdown",
   "metadata": {},
   "source": [
    "The biggest problem of having missing data is therefore we cannot compute further. Often `pandas` methods do not like missing data and we will see an exception. So we will need to eliminate missing data. There are some operations still allow missing values, however, they will be \"eaten\" by the missing value. For example, try the following: "
   ]
  },
  {
   "cell_type": "code",
   "execution_count": null,
   "metadata": {
    "tags": []
   },
   "outputs": [],
   "source": [
    "# Run this\n",
    "1 + np.nan"
   ]
  },
  {
   "cell_type": "markdown",
   "metadata": {},
   "source": [
    "or "
   ]
  },
  {
   "cell_type": "code",
   "execution_count": null,
   "metadata": {
    "tags": []
   },
   "outputs": [],
   "source": [
    "# Run this\n",
    "0 * np.nan"
   ]
  },
  {
   "cell_type": "markdown",
   "metadata": {},
   "source": [
    "You will see that arithmetic operations are absorbed by the missing data. "
   ]
  },
  {
   "cell_type": "markdown",
   "metadata": {},
   "source": [
    "By rule of thumb, if the amount of missing data is less than 10%, then we should not be too worried of dropping them. In this exercise, we will not look at dropping rows too further. In `pandas`, the method to drop missing data is the `.dropna()`. For example, \n",
    "```python\n",
    "df.dropna()\n",
    "```\n",
    "will __drop all the rows or columns__ that contains missing value. This will lead back to the original dataframe we have. "
   ]
  },
  {
   "cell_type": "markdown",
   "metadata": {},
   "source": [
    "<img src=\"fig/MissingDataDrop.png\" width=\"720\"/>"
   ]
  },
  {
   "cell_type": "markdown",
   "metadata": {},
   "source": [
    "The other option is to fill in the missing values. This will be the approach we pursue this time, so that each student will have a mark back. In `pandas`, the `.fillna()` method suits the needs. There are different approaches to do, here are the common appraoches: \n",
    "* Fill with `0`\n",
    "* Fill using mean/ median value\n",
    "* Bring in value from previous row (_forward-fill_)\n",
    "* Bring in value from next row (_back-fill_)\n",
    "* Based on values from the other column(s)"
   ]
  },
  {
   "cell_type": "markdown",
   "metadata": {},
   "source": [
    "In this case, we will fill in the missing values will `0`. Which is, "
   ]
  },
  {
   "cell_type": "code",
   "execution_count": null,
   "metadata": {
    "collapsed": true,
    "jupyter": {
     "outputs_hidden": true
    }
   },
   "outputs": [],
   "source": [
    "# Try this\n",
    "df.fillnan(0)"
   ]
  },
  {
   "cell_type": "markdown",
   "metadata": {},
   "source": [
    "The other method of treating missing values is to __impute__ the missing values. This means the missing values are replaced by another value. It could be either\n",
    "* Zeros (or a number)\n",
    "* Mean, median, mean or random sample \n",
    "* Linear interpolation\n",
    "* Regression (e.g. linear or logistic) "
   ]
  },
  {
   "cell_type": "markdown",
   "metadata": {},
   "source": [
    "<img src=\"fig/MissingDataImpute.png\" width=\"720\"/>"
   ]
  },
  {
   "cell_type": "markdown",
   "metadata": {},
   "source": [
    "The typical steps of imputing values in Python is to \n",
    "\n",
    "0. Generate a `SimpleImputer()` object from `sklearn.impute`. Assign a variable for this. \n",
    "1. Impute the missing values from a data frame (e.g. `df`) by \n",
    "    `imputer_df = pd.DataFrame(my_imputer.fit_transform(df))`\n",
    "2. Bring back the column names by assigning the `.columns` attribute. "
   ]
  },
  {
   "cell_type": "markdown",
   "metadata": {
    "solution": "hidden",
    "solution2": "hidden",
    "solution2_first": true,
    "solution_first": true
   },
   "source": [
    "__Exercise:__ How do you call the `SimpleImputer()` object. In particular, how do you import them from `sklearn`?"
   ]
  },
  {
   "cell_type": "markdown",
   "metadata": {
    "solution": "hidden",
    "solution2": "hidden"
   },
   "source": [
    "__Solution:__\n",
    "\n",
    "You should import them by \n",
    "```python\n",
    "from sklearn.impute import SimpleImputer\n",
    "\n",
    "imputer = SimpleImputer()\n",
    "```"
   ]
  },
  {
   "cell_type": "markdown",
   "metadata": {},
   "source": [
    "So the code to impute values should look like \n",
    "```python\n",
    "from sklearn.impute import SimpleImputer\n",
    "\n",
    "# Imputation\n",
    "imputer = SimpleImputer()\n",
    "imputed_df = pd.DataFrame(imputer.fit_transform(df))\n",
    "\n",
    "# Put back column names\n",
    "imputed_df.columns = df.columns\n",
    "```"
   ]
  },
  {
   "cell_type": "markdown",
   "metadata": {},
   "source": [
    "In practice, there are many ways to treat missing values. Either by dropping values or imputation, they are the main catgories. Often people only choose one approach, and there is a way to benchmark either methods. This is called the scoring method. In `sklearn`, there are methods to do so (e.g. `mean_absolute_error()`). \n",
    "\n",
    "We will talk about model evaluation in week 9. "
   ]
  },
  {
   "cell_type": "markdown",
   "metadata": {},
   "source": [
    "### Manipulating Datasets"
   ]
  },
  {
   "cell_type": "markdown",
   "metadata": {},
   "source": [
    "In data science, understanding data initiates the project. It is important to foresee how the data will be important to the deliverables. In the next process __data preparation__, it involves with the following processes: \n",
    "* Deriving new columns\n",
    "* Merging data sources"
   ]
  },
  {
   "cell_type": "markdown",
   "metadata": {},
   "source": [
    "Remember the goal of data analysis is to explain something. Therefore, we need either __a target feature__ to explain or any quantitative features (e.g. how close the data points/ clusters). In this section, we will derive the marks column and infer from the that. Note that we will not merge data sources as we are working on only 1 data source at this point. \n",
    "\n",
    "To create a new column, we simply assign values to a column we have never seen from the data source. In particular, the marks breakdown of the course are: \n",
    "* Final exam marks  worth 50%of the course. \n",
    "* Quizes worth 10% of the course. \n",
    "* Lab worth 10% of the course. \n",
    "* Assignment 01 worth 10% of the course. \n",
    "* Assignment 02 worth 20% of the course. "
   ]
  },
  {
   "cell_type": "markdown",
   "metadata": {
    "solution": "hidden",
    "solution2": "hidden",
    "solution2_first": true,
    "solution_first": true
   },
   "source": [
    "__Exercise:__ Create the `'Mark'` column. "
   ]
  },
  {
   "cell_type": "code",
   "execution_count": null,
   "metadata": {
    "tags": []
   },
   "outputs": [],
   "source": [
    "# Your code below\n",
    "\n",
    "df['Mark']"
   ]
  },
  {
   "cell_type": "code",
   "execution_count": null,
   "metadata": {
    "solution": "hidden",
    "solution2": "hidden",
    "tags": []
   },
   "outputs": [],
   "source": [
    "# Solution\n",
    "df['Mark'] = (df['Q1'] + df['Q2'] + df['Q3'] + df['Q4'] + df['Q5'] + df['Q6'])/2 + df['Quizes Marks'] * 0.1 + df['Lab Marks'] * 0.1 + df['Asgn 01 Marks'] * 0.1 + df['Asgn 02 Marks'] * 0.2\n",
    "df['Mark']"
   ]
  },
  {
   "cell_type": "markdown",
   "metadata": {},
   "source": [
    "Finally, we can visuallise the data points using `matplotlib` library. It is a Python library that presents our data visually. To call `matplotlib`, simply use the following line into our cell for calling libraries above\n",
    "```python\n",
    "from matplotlib import pyplot as plt\n",
    "% matplotlib inline\n",
    "```\n",
    "You can see that we are importing a library `pyplot` from `matplotlib`, which is commonly used in data analytics. We then shortform the library called `plt`. The second line is unique line to Jupyter, which is to enable the plot outputs show and store in this notebook. "
   ]
  },
  {
   "cell_type": "markdown",
   "metadata": {},
   "source": [
    "The usual syntax of plotting data is the following: \n",
    "```python\n",
    "plt.plot(data)\n",
    "plt.xlabel('x')\n",
    "plt.show()  # In Jupyter, it can be omitted if inline function used\n",
    "```\n",
    "Each lines above represents each part to plot a diagram. The __first line__ tells us what kind of plots to you want. `pyplot` provides several options to plot (e.g. box plot `plt.box()`, scatter plot `plt.scatter()`, line plot `plt.plot()`) data. The __second line__ is optinally for the bit and pieces (e.g. your axes label, how big is your plot) if your plot in the previous line. __Finally__, use `plt.show()` to display your work. \n",
    "\n",
    "There are plenty of exercises from their [official website](https://matplotlib.org/gallery/index.html). Click on one of the examples and there are many ideas come from the codes underneath the display. "
   ]
  },
  {
   "cell_type": "markdown",
   "metadata": {
    "solution": "hidden",
    "solution2": "hidden",
    "solution2_first": true,
    "solution_first": true
   },
   "source": [
    "Let us do an example with `pyplot`, let us plot with a sample data. \n",
    "\n",
    "__Exercise:__ Complete the code below to plot a line plot. "
   ]
  },
  {
   "cell_type": "code",
   "execution_count": null,
   "metadata": {
    "tags": []
   },
   "outputs": [],
   "source": [
    "plt_data = np.array[1,0,1,0,5,6,8,10,12,15,19]\n",
    "# Your code below\n"
   ]
  },
  {
   "cell_type": "code",
   "execution_count": 13,
   "metadata": {
    "solution": "hidden",
    "solution2": "hidden"
   },
   "outputs": [
    {
     "data": {
      "image/png": "[encoded data removed]",
      "text/plain": [
       "<matplotlib.figure.Figure at 0x9d72550>"
      ]
     },
     "metadata": {},
     "output_type": "display_data"
    }
   ],
   "source": [
    "# Solution\n",
    "from matplotlib import pyplot as plt\n",
    "% matplotlib inline\n",
    "\n",
    "plt_data = np.array([1,0,1,0,5,6,8,10,12,15,19])\n",
    "plt.plot(plt_data)\n",
    "plt.show()"
   ]
  },
  {
   "cell_type": "markdown",
   "metadata": {
    "solution": "hidden",
    "solution2": "hidden",
    "solution2_first": true,
    "solution_first": true
   },
   "source": [
    "So now let us plot the marks of each student in the marks dataset. \n",
    "\n",
    "__Exercise:__ Plot the marks of each student using a scatter plot. What do the scatter plot mean? (Use `plt.scatter()` to help you)"
   ]
  },
  {
   "cell_type": "code",
   "execution_count": null,
   "metadata": {
    "tags": []
   },
   "outputs": [],
   "source": [
    "# Your code below\n"
   ]
  },
  {
   "cell_type": "code",
   "execution_count": null,
   "metadata": {
    "solution": "hidden",
    "solution2": "hidden",
    "tags": []
   },
   "outputs": [],
   "source": [
    "# Solution \n",
    "plt.plot(df['Mark'])\n",
    "plt.show()\n",
    "print('The scatter shows marks of each student, in the order of the dataframe rows.')"
   ]
  },
  {
   "cell_type": "markdown",
   "metadata": {},
   "source": [
    "Finally, let us plot the distribution of people who passed and failed the course. The following is the demonstration."
   ]
  },
  {
   "cell_type": "code",
   "execution_count": null,
   "metadata": {
    "tags": []
   },
   "outputs": [],
   "source": [
    "# Run it \n",
    "plt.plot(df.loc[df.Mark >= 50, 'Mark'], 'bo')\n",
    "plt.plot(df.loc[df.Mark < 50, 'Mark'], 'ro')\n",
    "plt.show()"
   ]
  },
  {
   "cell_type": "markdown",
   "metadata": {},
   "source": [
    "Can you explain what is in each line of code above?"
   ]
  },
  {
   "cell_type": "markdown",
   "metadata": {},
   "source": [
    "### Label Encoding"
   ]
  },
  {
   "cell_type": "markdown",
   "metadata": {},
   "source": [
    "Often our dataset contains string data representing categories. In many analysis they require them to be numerical, and this is where label encoding comes in. For example, we can label \n",
    "* \"Male\" as $1$ and, \n",
    "* \"Female\" as $0$\n",
    "\n",
    "and this is useful in linear regression. \n",
    "\n",
    "In `skearn`, a machine learning library, there are couple of ways to encode them. For the time being, this is to let you aware of the tools and we shall encode a catagorical feature in week 9. "
   ]
  },
  {
   "cell_type": "markdown",
   "metadata": {},
   "source": [
    "## EDA with Text Files"
   ]
  },
  {
   "cell_type": "markdown",
   "metadata": {},
   "source": [
    "In these 2 weeks we will also look at how to infer from text files. The key of analysing text data sets is to encode them quantitatively. "
   ]
  },
  {
   "cell_type": "code",
   "execution_count": null,
   "metadata": {},
   "outputs": [],
   "source": [
    "import pandas as pd\n",
    "from matplotlib import pyplot as plt\n",
    "\n",
    "news = pd.read_csv('files/news.txt', sep='\\n', header=None)\n",
    "print(news.head())"
   ]
  },
  {
   "cell_type": "markdown",
   "metadata": {},
   "source": [
    "Our first analysis involves to find the length of each row. This is done by "
   ]
  },
  {
   "cell_type": "code",
   "execution_count": null,
   "metadata": {},
   "outputs": [],
   "source": [
    "# Run me\n",
    "news[0].str.len()"
   ]
  },
  {
   "cell_type": "markdown",
   "metadata": {},
   "source": [
    "Let us visualise the number of words in each line. To do that, we should make sure `matplotlib` and `pyplot` are imported. \n",
    "\n",
    "```python\n",
    "from matplotlib import pyplot as plt\n",
    "%matplotlib inline\n",
    "```\n",
    "The following code does the work. "
   ]
  },
  {
   "cell_type": "code",
   "execution_count": 20,
   "metadata": {},
   "outputs": [
    {
     "data": {
      "image/png": "[encoded data removed]",
      "text/plain": [
       "<matplotlib.figure.Figure at 0x9b0e5c0>"
      ]
     },
     "metadata": {},
     "output_type": "display_data"
    }
   ],
   "source": [
    "# Run me\n",
    "plt.bar(list(range(news[0].shape[0])), news[0].str.len())\n",
    "plt.show()"
   ]
  },
  {
   "cell_type": "markdown",
   "metadata": {},
   "source": [
    "__Exercise:__ In the plot above, add a meaningful header for it. What is it about?"
   ]
  },
  {
   "cell_type": "markdown",
   "metadata": {},
   "source": [
    "To explore our text files, one way is to understand how positive/ negative of the tone, and also how subjective is the piece of the text. This is called the __sentiment analysis__. `vader` in `ntlk` is a common library to proceed the sentiment analysis. To do so, you will need to download the vader lexicon (i.e. the dictionary). You will need to run this code \n",
    "```python\n",
    "import nltk\n",
    "nltk.download('vader_lexicon')\n",
    "```\n",
    "and delete the lines afterwards. Your computer has installed the `vader` lexicon and you won't need to use the code above again. \n",
    "\n",
    "After this, you are on your way to proceed with the sentiment analysis with `vader`. Which is done by the code below: "
   ]
  },
  {
   "cell_type": "code",
   "execution_count": 6,
   "metadata": {},
   "outputs": [],
   "source": [
    "# Run it\n",
    "from nltk.sentiment import vader\n",
    "senti=vader.SentimentIntensityAnalyzer()"
   ]
  },
  {
   "cell_type": "markdown",
   "metadata": {},
   "source": [
    "The second line above is to create a sentiment analysis object, which is the place to analyse and store the results from sentiment analysis. You may wonder why there is no place to put the texts (inputs) above. The reasons is you will do this once you created the object itself. For example, see below: "
   ]
  },
  {
   "cell_type": "code",
   "execution_count": 30,
   "metadata": {},
   "outputs": [
    {
     "name": "stdout",
     "output_type": "stream",
     "text": [
      "{'neg': 0.0, 'neu': 0.455, 'pos': 0.545, 'compound': 0.6989}\n",
      "{'neg': 0.513, 'neu': 0.487, 'pos': 0.0, 'compound': -0.2755}\n",
      "{'neg': 0.183, 'neu': 0.687, 'pos': 0.13, 'compound': -0.1938}\n"
     ]
    }
   ],
   "source": [
    "# Try yourself\n",
    "print(senti.polarity_scores('I really love what I\\'ve got!'))\n",
    "print(senti.polarity_scores(\"I don't like this\"))\n",
    "print(senti.polarity_scores(\"I liked the course, but I don't like the bits and pieces of it.\"))"
   ]
  },
  {
   "cell_type": "markdown",
   "metadata": {},
   "source": [
    "So let's apply the sentiment analysis into the text we after. "
   ]
  },
  {
   "cell_type": "code",
   "execution_count": 7,
   "metadata": {},
   "outputs": [],
   "source": [
    "ps = news[0].apply(senti.polarity_scores)"
   ]
  },
  {
   "cell_type": "markdown",
   "metadata": {},
   "source": [
    "For example, we can find the negative score of the first row as "
   ]
  },
  {
   "cell_type": "code",
   "execution_count": 40,
   "metadata": {},
   "outputs": [
    {
     "data": {
      "text/plain": [
       "0.09"
      ]
     },
     "execution_count": 40,
     "metadata": {},
     "output_type": "execute_result"
    }
   ],
   "source": [
    "ps[0]['neg']"
   ]
  },
  {
   "cell_type": "markdown",
   "metadata": {
    "solution": "hidden",
    "solution2": "hidden",
    "solution2_first": true,
    "solution_first": true
   },
   "source": [
    "__Exercise:__ Print the negative score of the $30$th row. "
   ]
  },
  {
   "cell_type": "code",
   "execution_count": null,
   "metadata": {},
   "outputs": [],
   "source": [
    "# Your code below\n"
   ]
  },
  {
   "cell_type": "code",
   "execution_count": 8,
   "metadata": {
    "solution": "hidden",
    "solution2": "hidden"
   },
   "outputs": [
    {
     "data": {
      "text/plain": [
       "0.171"
      ]
     },
     "execution_count": 8,
     "metadata": {},
     "output_type": "execute_result"
    }
   ],
   "source": [
    "# Solution\n",
    "ps[29]['neg']"
   ]
  },
  {
   "cell_type": "markdown",
   "metadata": {
    "solution": "shown",
    "solution2": "hidden",
    "solution2_first": true,
    "solution_first": true
   },
   "source": [
    "__Exercise:__ Print the positive score of the $30$th row. What is your interpretation of this score?"
   ]
  },
  {
   "cell_type": "code",
   "execution_count": null,
   "metadata": {
    "solution": "shown"
   },
   "outputs": [],
   "source": [
    "# Your code below\n"
   ]
  },
  {
   "cell_type": "code",
   "execution_count": 9,
   "metadata": {
    "solution": "shown",
    "solution2": "hidden"
   },
   "outputs": [
    {
     "data": {
      "text/plain": [
       "0.0"
      ]
     },
     "execution_count": 9,
     "metadata": {},
     "output_type": "execute_result"
    }
   ],
   "source": [
    "# Solution\n",
    "ps[29]['pos']\n",
    "\n",
    "# The value is 0.0, it means the 30th row has negative content. "
   ]
  },
  {
   "cell_type": "markdown",
   "metadata": {},
   "source": [
    "## Modelling and Evalution"
   ]
  },
  {
   "cell_type": "markdown",
   "metadata": {},
   "source": [
    "After all the preparation work has done, it is time to plan to make the deliverables. In data analytics, we make __models__. These are the mathematical models. You can think them as a line plot in front of the computer screen. A model is how we conceptualise a concept in a consise way. For example, \n",
    "* We describe how the population of birds grow in a nature reserve through a line plot through times.\n",
    "* After we find out why the sewage system blocked in the whole city, we could draw a map of the sewage system to show the situation. "
   ]
  },
  {
   "cell_type": "markdown",
   "metadata": {},
   "source": [
    "So once we have our datasets on hand, we can start modelling. There are many ways to model from data: \n",
    "* Statistical modelling (See __next week__) \n",
    "* Machine learning (See __week 9 and 10__) \n",
    "* Dynamical equation modelling\n",
    "* Agent based modelling\n",
    "\n",
    "Usually statistical modelling means to find statistical information from a large dataset. These statistical information include mean, median mode values. Or range parameters such as standard deviation or interquartile range. By bringing the context of the data into the measured statistical information, we then conclude from them. \n",
    "\n",
    "Machine learning is set of methods which means the computer finds non-trivial patterns from data. Machine learning is a category of many computational methods, it depends on the dataset and your problem to decide which method is the best. You can check more from [Google](https://developers.google.com/machine-learning/problem-framing/cases) to find out more. More often, you don't need to use machine learning to model your dataset. There is a worksheet from Google to help you whether you need machine learning or not. \n",
    "\n",
    "[https://developers.google.com/machine-learning/problem-framing/framing](https://developers.google.com/machine-learning/problem-framing/framing)"
   ]
  },
  {
   "cell_type": "markdown",
   "metadata": {},
   "source": [
    "<img src=\"fig/MachineLearning.png\" width=\"620\"/>"
   ]
  },
  {
   "cell_type": "markdown",
   "metadata": {},
   "source": [
    "At the end of your modelling process. You will need to evaluate your model. This will be mentioned more next week upon the technical sides. Often you will need to measure your model with __model diagnostics__. Therefore, you will able to ask yourself the following questions: \n",
    "* Does my model contribute to what I want?\n",
    "* Is there any way to optimise my computation?\n",
    "* Any surprises (both good and bad) occured when modelling?\n",
    "* Any mistakes and lessons learnt?\n",
    "\n",
    "Think about these questions once we have done next week's work. "
   ]
  },
  {
   "cell_type": "markdown",
   "metadata": {},
   "source": [
    "## Deployment"
   ]
  },
  {
   "cell_type": "markdown",
   "metadata": {},
   "source": [
    "At the end of your data analytics cycle, you will be writing summary about your model and then use it in real life. There are many examples: \n",
    "* Recommendation systems on Youtube\n",
    "* API for sports performance prediction \n",
    "* Animation of the spread of bushfires\n",
    "\n",
    "While each dataset is unique, there is always possibilities to its applications. \n",
    "\n",
    "__Exercise:__ Think about what could be the applications from the data analysis we have just made. "
   ]
  },
  {
   "cell_type": "markdown",
   "metadata": {},
   "source": [
    "If you can't think of any applications on top of your head, that is fine. There are many ways to think about how to produce a useful application out of them. We call them as __deliverables__. In reality, people will: \n",
    "1. Summarise the results from their models\n",
    "2. Create a step-by-step plan for deployment\n",
    "3. You may then also wanted to see: \n",
    "    * Any factors or influences needed to follow up? \n",
    "    * Validity and accuracy of each model\n",
    "    * Does the model become unrealistic?\n",
    "\n",
    "After that you will need to write a final report to summarise your cycle. "
   ]
  },
  {
   "cell_type": "markdown",
   "metadata": {},
   "source": [
    "Before we finish, do you remember that in the CRISP-DM flowchart, what does the arrows look like? In fact, any business process is never uni-directional. Always remember to review your work. It will help you to detect any mistakes early as possible. "
   ]
  },
  {
   "cell_type": "markdown",
   "metadata": {},
   "source": [
    "## Conclusion"
   ]
  },
  {
   "cell_type": "markdown",
   "metadata": {},
   "source": [
    "In this week, we have looked into the process of data analytics and \n",
    "* How to define a solid purpose for a data science project\n",
    "* How to complete EDA\n",
    "* Tools to conduct data cleaning\n",
    "* Understand data analytics process\n",
    "\n",
    "In the next weeks we will look into the other phases in the CRISP-DM: \n",
    "* Advanced EDA in week 8 \n",
    "* Select and aggregate data in week 9 and 10\n",
    "* Machine learning in weeks 9 and 10"
   ]
  },
  {
   "cell_type": "markdown",
   "metadata": {},
   "source": [
    "## Further Reading\n",
    "\n",
    "* Trilling, D. (2019). _Doing Computational Social Science with Python: An Introduction_. [Online; Accessed on 16th December 2019]\n",
    "* Alvira Swalin (2018). \n",
    "[Different techniques on missing values treatment](https://towardsdatascience.com/how-to-handle-missing-data-8646b18db0d4)"
   ]
  }
 ],
 "metadata": {
  "kernelspec": {
   "display_name": "Python 3 (ipykernel)",
   "language": "python",
   "name": "python3"
  },
  "language_info": {
   "codemirror_mode": {
    "name": "ipython",
    "version": 3
   },
   "file_extension": ".py",
   "mimetype": "text/x-python",
   "name": "python",
   "nbconvert_exporter": "python",
   "pygments_lexer": "ipython3",
   "version": "3.10.9"
  },
  "latex_envs": {
   "LaTeX_envs_menu_present": true,
   "autoclose": true,
   "autocomplete": true,
   "bibliofile": "biblio.bib",
   "cite_by": "apalike",
   "current_citInitial": 1,
   "eqLabelWithNumbers": true,
   "eqNumInitial": 1,
   "hotkeys": {
    "equation": "Ctrl-E",
    "itemize": "Ctrl-I"
   },
   "labels_anchors": false,
   "latex_user_defs": false,
   "report_style_numbering": false,
   "user_envs_cfg": false
  },
  "toc": {
   "base_numbering": 1,
   "nav_menu": {},
   "number_sections": false,
   "sideBar": true,
   "skip_h1_title": false,
   "title_cell": "Table of Contents",
   "title_sidebar": "Contents",
   "toc_cell": false,
   "toc_position": {},
   "toc_section_display": true,
   "toc_window_display": true
  }
 },
 "nbformat": 4,
 "nbformat_minor": 4
}
